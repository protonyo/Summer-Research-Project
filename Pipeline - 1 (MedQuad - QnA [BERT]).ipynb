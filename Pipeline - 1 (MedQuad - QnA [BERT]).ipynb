{
 "cells": [
  {
   "cell_type": "code",
   "execution_count": 1,
   "id": "059f8279",
   "metadata": {},
   "outputs": [],
   "source": [
    "seed = 42"
   ]
  },
  {
   "cell_type": "code",
   "execution_count": 2,
   "id": "782fab63",
   "metadata": {},
   "outputs": [
    {
     "name": "stderr",
     "output_type": "stream",
     "text": [
      "C:\\Users\\vardh\\AppData\\Roaming\\Python\\Python310\\site-packages\\pandas\\core\\arrays\\masked.py:60: UserWarning: Pandas requires version '1.3.6' or newer of 'bottleneck' (version '1.3.5' currently installed).\n",
      "  from pandas.core import (\n"
     ]
    }
   ],
   "source": [
    "import pandas as pd\n",
    "import numpy as np\n",
    "import matplotlib.pyplot as plt\n",
    "import seaborn as sns\n",
    "import torch\n",
    "import re"
   ]
  },
  {
   "cell_type": "code",
   "execution_count": 3,
   "id": "d4acfe6d",
   "metadata": {},
   "outputs": [],
   "source": [
    "from datasets import load_dataset\n",
    "\n",
    "dataset = load_dataset(\"keivalya/MedQuad-MedicalQnADataset\")"
   ]
  },
  {
   "cell_type": "code",
   "execution_count": 4,
   "id": "daed367d",
   "metadata": {},
   "outputs": [],
   "source": [
    "train = dataset['train']"
   ]
  },
  {
   "cell_type": "code",
   "execution_count": 5,
   "id": "dabf42f8",
   "metadata": {},
   "outputs": [],
   "source": [
    "train_df = pd.DataFrame(train)"
   ]
  },
  {
   "cell_type": "code",
   "execution_count": 6,
   "id": "a17a2edf",
   "metadata": {},
   "outputs": [
    {
     "data": {
      "text/html": [
       "<div>\n",
       "<style scoped>\n",
       "    .dataframe tbody tr th:only-of-type {\n",
       "        vertical-align: middle;\n",
       "    }\n",
       "\n",
       "    .dataframe tbody tr th {\n",
       "        vertical-align: top;\n",
       "    }\n",
       "\n",
       "    .dataframe thead th {\n",
       "        text-align: right;\n",
       "    }\n",
       "</style>\n",
       "<table border=\"1\" class=\"dataframe\">\n",
       "  <thead>\n",
       "    <tr style=\"text-align: right;\">\n",
       "      <th></th>\n",
       "      <th>qtype</th>\n",
       "      <th>Question</th>\n",
       "      <th>Answer</th>\n",
       "    </tr>\n",
       "  </thead>\n",
       "  <tbody>\n",
       "    <tr>\n",
       "      <th>0</th>\n",
       "      <td>susceptibility</td>\n",
       "      <td>Who is at risk for Lymphocytic Choriomeningiti...</td>\n",
       "      <td>LCMV infections can occur after exposure to fr...</td>\n",
       "    </tr>\n",
       "    <tr>\n",
       "      <th>1</th>\n",
       "      <td>symptoms</td>\n",
       "      <td>What are the symptoms of Lymphocytic Choriomen...</td>\n",
       "      <td>LCMV is most commonly recognized as causing ne...</td>\n",
       "    </tr>\n",
       "    <tr>\n",
       "      <th>2</th>\n",
       "      <td>susceptibility</td>\n",
       "      <td>Who is at risk for Lymphocytic Choriomeningiti...</td>\n",
       "      <td>Individuals of all ages who come into contact ...</td>\n",
       "    </tr>\n",
       "    <tr>\n",
       "      <th>3</th>\n",
       "      <td>exams and tests</td>\n",
       "      <td>How to diagnose Lymphocytic Choriomeningitis (...</td>\n",
       "      <td>During the first phase of the disease, the mos...</td>\n",
       "    </tr>\n",
       "    <tr>\n",
       "      <th>4</th>\n",
       "      <td>treatment</td>\n",
       "      <td>What are the treatments for Lymphocytic Chorio...</td>\n",
       "      <td>Aseptic meningitis, encephalitis, or meningoen...</td>\n",
       "    </tr>\n",
       "  </tbody>\n",
       "</table>\n",
       "</div>"
      ],
      "text/plain": [
       "             qtype                                           Question  \\\n",
       "0   susceptibility  Who is at risk for Lymphocytic Choriomeningiti...   \n",
       "1         symptoms  What are the symptoms of Lymphocytic Choriomen...   \n",
       "2   susceptibility  Who is at risk for Lymphocytic Choriomeningiti...   \n",
       "3  exams and tests  How to diagnose Lymphocytic Choriomeningitis (...   \n",
       "4        treatment  What are the treatments for Lymphocytic Chorio...   \n",
       "\n",
       "                                              Answer  \n",
       "0  LCMV infections can occur after exposure to fr...  \n",
       "1  LCMV is most commonly recognized as causing ne...  \n",
       "2  Individuals of all ages who come into contact ...  \n",
       "3  During the first phase of the disease, the mos...  \n",
       "4  Aseptic meningitis, encephalitis, or meningoen...  "
      ]
     },
     "metadata": {},
     "output_type": "display_data"
    },
    {
     "data": {
      "text/plain": [
       "(16407, 3)"
      ]
     },
     "execution_count": 6,
     "metadata": {},
     "output_type": "execute_result"
    }
   ],
   "source": [
    "display(train_df.head())\n",
    "train_df.shape"
   ]
  },
  {
   "cell_type": "code",
   "execution_count": 7,
   "id": "fa17a8a2",
   "metadata": {},
   "outputs": [
    {
     "data": {
      "text/plain": [
       "qtype\n",
       "information        4535\n",
       "symptoms           2748\n",
       "treatment          2442\n",
       "inheritance        1446\n",
       "frequency          1120\n",
       "genetic changes    1087\n",
       "causes              727\n",
       "exams and tests     653\n",
       "research            395\n",
       "outlook             361\n",
       "susceptibility      324\n",
       "considerations      235\n",
       "prevention          210\n",
       "stages               77\n",
       "complications        46\n",
       "support groups        1\n",
       "Name: count, dtype: int64"
      ]
     },
     "execution_count": 7,
     "metadata": {},
     "output_type": "execute_result"
    }
   ],
   "source": [
    "train_df['qtype'].value_counts()"
   ]
  },
  {
   "cell_type": "code",
   "execution_count": 10,
   "id": "60facce5",
   "metadata": {},
   "outputs": [],
   "source": [
    "labels_to_remove = ['support groups', 'complications', 'stages']\n",
    "df_train = train_df[~train_df['qtype'].isin(labels_to_remove)]"
   ]
  },
  {
   "cell_type": "code",
   "execution_count": 11,
   "id": "8dbba6a4",
   "metadata": {},
   "outputs": [
    {
     "data": {
      "text/plain": [
       "(16283, 3)"
      ]
     },
     "execution_count": 11,
     "metadata": {},
     "output_type": "execute_result"
    }
   ],
   "source": [
    "df_train.shape"
   ]
  },
  {
   "cell_type": "code",
   "execution_count": 12,
   "id": "354b4446",
   "metadata": {},
   "outputs": [],
   "source": [
    "from transformers import BertTokenizer, BertModel"
   ]
  },
  {
   "cell_type": "code",
   "execution_count": 13,
   "id": "923b177e",
   "metadata": {},
   "outputs": [],
   "source": [
    "tokenizer = BertTokenizer.from_pretrained('bert-base-uncased')\n",
    "model = BertModel.from_pretrained('bert-base-uncased')"
   ]
  },
  {
   "cell_type": "code",
   "execution_count": 14,
   "id": "19754fa2",
   "metadata": {},
   "outputs": [],
   "source": [
    "def form_X_array_in_batches(tokenizer, model, texts, batch_size):\n",
    "    X_array = []\n",
    "    for i in range(0, len(texts), batch_size):\n",
    "        batch_texts = texts[i:i + batch_size]\n",
    "        inputs = tokenizer(batch_texts, max_length=512, return_tensors='pt', padding=True, truncation=True)\n",
    "        with torch.no_grad():  # Ensure no gradients are calculated\n",
    "            outputs = model(**inputs)\n",
    "        embeddings = outputs.last_hidden_state.mean(dim=1)\n",
    "        X_array.append(embeddings.cpu())  # Move embeddings to CPU to save GPU memory\n",
    "    X_array = torch.cat(X_array, dim=0)\n",
    "    return X_array"
   ]
  },
  {
   "cell_type": "code",
   "execution_count": 15,
   "id": "6a471ad2",
   "metadata": {},
   "outputs": [
    {
     "name": "stdout",
     "output_type": "stream",
     "text": [
      "\n",
      " Extracting Train Embeddings\n"
     ]
    }
   ],
   "source": [
    "batch_size = 8  # Adjust batch size based on your system's memory\n",
    "print('\\n Extracting Train Embeddings')\n",
    "train_embeddings = form_X_array_in_batches(tokenizer, model, df_train['Question'].tolist(), batch_size)"
   ]
  },
  {
   "cell_type": "code",
   "execution_count": 16,
   "id": "f09e4316",
   "metadata": {},
   "outputs": [
    {
     "data": {
      "text/plain": [
       "torch.Size([16283, 768])"
      ]
     },
     "execution_count": 16,
     "metadata": {},
     "output_type": "execute_result"
    }
   ],
   "source": [
    "train_embeddings.shape"
   ]
  },
  {
   "cell_type": "code",
   "execution_count": 17,
   "id": "bcd23844",
   "metadata": {},
   "outputs": [
    {
     "data": {
      "text/plain": [
       "array([[-0.0712833 ,  0.05067804,  0.15294656, ..., -0.14018312,\n",
       "        -0.2621925 ,  0.14293875],\n",
       "       [-0.04978618,  0.18011455,  0.09142643, ..., -0.0820482 ,\n",
       "        -0.37607154,  0.20181936],\n",
       "       [-0.0712833 ,  0.05067804,  0.15294656, ..., -0.14018312,\n",
       "        -0.2621925 ,  0.14293875],\n",
       "       ...,\n",
       "       [ 0.05389842,  0.01402939, -0.00122576, ..., -0.544609  ,\n",
       "        -0.28031394,  0.10140865],\n",
       "       [ 0.06087607,  0.00215919,  0.13071498, ..., -0.48403835,\n",
       "        -0.2078206 ,  0.2205528 ],\n",
       "       [-0.06016289, -0.20794682,  0.3702944 , ..., -0.4987575 ,\n",
       "        -0.09174875,  0.15262528]], dtype=float32)"
      ]
     },
     "execution_count": 17,
     "metadata": {},
     "output_type": "execute_result"
    }
   ],
   "source": [
    "train_embeddings.numpy()"
   ]
  },
  {
   "cell_type": "code",
   "execution_count": 18,
   "id": "62b444e7",
   "metadata": {},
   "outputs": [],
   "source": [
    "# Convert each tensor to a list\n",
    "embedding_list = [train_embeddings[i].tolist() for i in range(train_embeddings.shape[0])]"
   ]
  },
  {
   "cell_type": "code",
   "execution_count": 19,
   "id": "3ef852ff",
   "metadata": {},
   "outputs": [
    {
     "name": "stderr",
     "output_type": "stream",
     "text": [
      "C:\\Users\\vardh\\AppData\\Local\\Temp\\ipykernel_3368\\275159606.py:2: SettingWithCopyWarning: \n",
      "A value is trying to be set on a copy of a slice from a DataFrame.\n",
      "Try using .loc[row_indexer,col_indexer] = value instead\n",
      "\n",
      "See the caveats in the documentation: https://pandas.pydata.org/pandas-docs/stable/user_guide/indexing.html#returning-a-view-versus-a-copy\n",
      "  df_train['embeddings'] = embedding_list\n"
     ]
    }
   ],
   "source": [
    "# Add these lists as a new column in the DataFrame\n",
    "df_train['embeddings'] = embedding_list"
   ]
  },
  {
   "cell_type": "code",
   "execution_count": 20,
   "id": "9b85c7fb",
   "metadata": {},
   "outputs": [
    {
     "data": {
      "text/html": [
       "<div>\n",
       "<style scoped>\n",
       "    .dataframe tbody tr th:only-of-type {\n",
       "        vertical-align: middle;\n",
       "    }\n",
       "\n",
       "    .dataframe tbody tr th {\n",
       "        vertical-align: top;\n",
       "    }\n",
       "\n",
       "    .dataframe thead th {\n",
       "        text-align: right;\n",
       "    }\n",
       "</style>\n",
       "<table border=\"1\" class=\"dataframe\">\n",
       "  <thead>\n",
       "    <tr style=\"text-align: right;\">\n",
       "      <th></th>\n",
       "      <th>qtype</th>\n",
       "      <th>Question</th>\n",
       "      <th>Answer</th>\n",
       "      <th>embeddings</th>\n",
       "    </tr>\n",
       "  </thead>\n",
       "  <tbody>\n",
       "    <tr>\n",
       "      <th>0</th>\n",
       "      <td>susceptibility</td>\n",
       "      <td>Who is at risk for Lymphocytic Choriomeningiti...</td>\n",
       "      <td>LCMV infections can occur after exposure to fr...</td>\n",
       "      <td>[-0.07128329575061798, 0.050678037106990814, 0...</td>\n",
       "    </tr>\n",
       "    <tr>\n",
       "      <th>1</th>\n",
       "      <td>symptoms</td>\n",
       "      <td>What are the symptoms of Lymphocytic Choriomen...</td>\n",
       "      <td>LCMV is most commonly recognized as causing ne...</td>\n",
       "      <td>[-0.04978618025779724, 0.18011455237865448, 0....</td>\n",
       "    </tr>\n",
       "    <tr>\n",
       "      <th>2</th>\n",
       "      <td>susceptibility</td>\n",
       "      <td>Who is at risk for Lymphocytic Choriomeningiti...</td>\n",
       "      <td>Individuals of all ages who come into contact ...</td>\n",
       "      <td>[-0.07128329575061798, 0.050678037106990814, 0...</td>\n",
       "    </tr>\n",
       "    <tr>\n",
       "      <th>3</th>\n",
       "      <td>exams and tests</td>\n",
       "      <td>How to diagnose Lymphocytic Choriomeningitis (...</td>\n",
       "      <td>During the first phase of the disease, the mos...</td>\n",
       "      <td>[-0.024111464619636536, 0.10768356174230576, -...</td>\n",
       "    </tr>\n",
       "    <tr>\n",
       "      <th>4</th>\n",
       "      <td>treatment</td>\n",
       "      <td>What are the treatments for Lymphocytic Chorio...</td>\n",
       "      <td>Aseptic meningitis, encephalitis, or meningoen...</td>\n",
       "      <td>[-0.03893835470080376, 0.1749821901321411, 0.1...</td>\n",
       "    </tr>\n",
       "  </tbody>\n",
       "</table>\n",
       "</div>"
      ],
      "text/plain": [
       "             qtype                                           Question  \\\n",
       "0   susceptibility  Who is at risk for Lymphocytic Choriomeningiti...   \n",
       "1         symptoms  What are the symptoms of Lymphocytic Choriomen...   \n",
       "2   susceptibility  Who is at risk for Lymphocytic Choriomeningiti...   \n",
       "3  exams and tests  How to diagnose Lymphocytic Choriomeningitis (...   \n",
       "4        treatment  What are the treatments for Lymphocytic Chorio...   \n",
       "\n",
       "                                              Answer  \\\n",
       "0  LCMV infections can occur after exposure to fr...   \n",
       "1  LCMV is most commonly recognized as causing ne...   \n",
       "2  Individuals of all ages who come into contact ...   \n",
       "3  During the first phase of the disease, the mos...   \n",
       "4  Aseptic meningitis, encephalitis, or meningoen...   \n",
       "\n",
       "                                          embeddings  \n",
       "0  [-0.07128329575061798, 0.050678037106990814, 0...  \n",
       "1  [-0.04978618025779724, 0.18011455237865448, 0....  \n",
       "2  [-0.07128329575061798, 0.050678037106990814, 0...  \n",
       "3  [-0.024111464619636536, 0.10768356174230576, -...  \n",
       "4  [-0.03893835470080376, 0.1749821901321411, 0.1...  "
      ]
     },
     "execution_count": 20,
     "metadata": {},
     "output_type": "execute_result"
    }
   ],
   "source": [
    "df_train.head()"
   ]
  },
  {
   "cell_type": "code",
   "execution_count": 21,
   "id": "d262e70f",
   "metadata": {},
   "outputs": [],
   "source": [
    "from sklearn.preprocessing import LabelEncoder"
   ]
  },
  {
   "cell_type": "code",
   "execution_count": 22,
   "id": "e441e18b",
   "metadata": {},
   "outputs": [],
   "source": [
    "label_encoder = LabelEncoder()"
   ]
  },
  {
   "cell_type": "code",
   "execution_count": 23,
   "id": "6fea5044",
   "metadata": {},
   "outputs": [
    {
     "name": "stderr",
     "output_type": "stream",
     "text": [
      "C:\\Users\\vardh\\AppData\\Local\\Temp\\ipykernel_3368\\2147678393.py:2: SettingWithCopyWarning: \n",
      "A value is trying to be set on a copy of a slice from a DataFrame.\n",
      "Try using .loc[row_indexer,col_indexer] = value instead\n",
      "\n",
      "See the caveats in the documentation: https://pandas.pydata.org/pandas-docs/stable/user_guide/indexing.html#returning-a-view-versus-a-copy\n",
      "  df_train['labels'] = label_encoder.fit_transform(df_train['qtype'])\n"
     ]
    }
   ],
   "source": [
    "# Fit and transform the labels\n",
    "df_train['labels'] = label_encoder.fit_transform(df_train['qtype'])"
   ]
  },
  {
   "cell_type": "code",
   "execution_count": 24,
   "id": "cc83215e",
   "metadata": {},
   "outputs": [],
   "source": [
    "# Create a mapping of the original labels to the encoded values\n",
    "label_mapping = dict(zip(label_encoder.classes_, label_encoder.transform(label_encoder.classes_)))"
   ]
  },
  {
   "cell_type": "code",
   "execution_count": 25,
   "id": "f73e0447",
   "metadata": {},
   "outputs": [
    {
     "name": "stdout",
     "output_type": "stream",
     "text": [
      "Label Encoding Mapping:\n",
      "causes: 0\n",
      "considerations: 1\n",
      "exams and tests: 2\n",
      "frequency: 3\n",
      "genetic changes: 4\n",
      "information: 5\n",
      "inheritance: 6\n",
      "outlook: 7\n",
      "prevention: 8\n",
      "research: 9\n",
      "susceptibility: 10\n",
      "symptoms: 11\n",
      "treatment: 12\n"
     ]
    }
   ],
   "source": [
    "# Print the mapping\n",
    "print(\"Label Encoding Mapping:\")\n",
    "for original_label, encoded_label in label_mapping.items():\n",
    "    print(f\"{original_label}: {encoded_label}\")"
   ]
  },
  {
   "cell_type": "code",
   "execution_count": 26,
   "id": "a40761c9",
   "metadata": {},
   "outputs": [
    {
     "data": {
      "text/html": [
       "<div>\n",
       "<style scoped>\n",
       "    .dataframe tbody tr th:only-of-type {\n",
       "        vertical-align: middle;\n",
       "    }\n",
       "\n",
       "    .dataframe tbody tr th {\n",
       "        vertical-align: top;\n",
       "    }\n",
       "\n",
       "    .dataframe thead th {\n",
       "        text-align: right;\n",
       "    }\n",
       "</style>\n",
       "<table border=\"1\" class=\"dataframe\">\n",
       "  <thead>\n",
       "    <tr style=\"text-align: right;\">\n",
       "      <th></th>\n",
       "      <th>qtype</th>\n",
       "      <th>Question</th>\n",
       "      <th>Answer</th>\n",
       "      <th>embeddings</th>\n",
       "      <th>labels</th>\n",
       "    </tr>\n",
       "  </thead>\n",
       "  <tbody>\n",
       "    <tr>\n",
       "      <th>0</th>\n",
       "      <td>susceptibility</td>\n",
       "      <td>Who is at risk for Lymphocytic Choriomeningiti...</td>\n",
       "      <td>LCMV infections can occur after exposure to fr...</td>\n",
       "      <td>[-0.07128329575061798, 0.050678037106990814, 0...</td>\n",
       "      <td>10</td>\n",
       "    </tr>\n",
       "    <tr>\n",
       "      <th>1</th>\n",
       "      <td>symptoms</td>\n",
       "      <td>What are the symptoms of Lymphocytic Choriomen...</td>\n",
       "      <td>LCMV is most commonly recognized as causing ne...</td>\n",
       "      <td>[-0.04978618025779724, 0.18011455237865448, 0....</td>\n",
       "      <td>11</td>\n",
       "    </tr>\n",
       "    <tr>\n",
       "      <th>2</th>\n",
       "      <td>susceptibility</td>\n",
       "      <td>Who is at risk for Lymphocytic Choriomeningiti...</td>\n",
       "      <td>Individuals of all ages who come into contact ...</td>\n",
       "      <td>[-0.07128329575061798, 0.050678037106990814, 0...</td>\n",
       "      <td>10</td>\n",
       "    </tr>\n",
       "    <tr>\n",
       "      <th>3</th>\n",
       "      <td>exams and tests</td>\n",
       "      <td>How to diagnose Lymphocytic Choriomeningitis (...</td>\n",
       "      <td>During the first phase of the disease, the mos...</td>\n",
       "      <td>[-0.024111464619636536, 0.10768356174230576, -...</td>\n",
       "      <td>2</td>\n",
       "    </tr>\n",
       "    <tr>\n",
       "      <th>4</th>\n",
       "      <td>treatment</td>\n",
       "      <td>What are the treatments for Lymphocytic Chorio...</td>\n",
       "      <td>Aseptic meningitis, encephalitis, or meningoen...</td>\n",
       "      <td>[-0.03893835470080376, 0.1749821901321411, 0.1...</td>\n",
       "      <td>12</td>\n",
       "    </tr>\n",
       "    <tr>\n",
       "      <th>...</th>\n",
       "      <td>...</td>\n",
       "      <td>...</td>\n",
       "      <td>...</td>\n",
       "      <td>...</td>\n",
       "      <td>...</td>\n",
       "    </tr>\n",
       "    <tr>\n",
       "      <th>16402</th>\n",
       "      <td>symptoms</td>\n",
       "      <td>What are the symptoms of Familial visceral myo...</td>\n",
       "      <td>What are the signs and symptoms of Familial vi...</td>\n",
       "      <td>[0.027457650750875473, 0.024152755737304688, 0...</td>\n",
       "      <td>11</td>\n",
       "    </tr>\n",
       "    <tr>\n",
       "      <th>16403</th>\n",
       "      <td>information</td>\n",
       "      <td>What is (are) Pseudopelade of Brocq ?</td>\n",
       "      <td>Pseudopelade of Brocq (PBB) is a slowly progre...</td>\n",
       "      <td>[-0.0652286633849144, 0.026916204020380974, 0....</td>\n",
       "      <td>5</td>\n",
       "    </tr>\n",
       "    <tr>\n",
       "      <th>16404</th>\n",
       "      <td>symptoms</td>\n",
       "      <td>What are the symptoms of Pseudopelade of Brocq ?</td>\n",
       "      <td>What are the signs and symptoms of Pseudopelad...</td>\n",
       "      <td>[0.05389842018485069, 0.01402939110994339, -0....</td>\n",
       "      <td>11</td>\n",
       "    </tr>\n",
       "    <tr>\n",
       "      <th>16405</th>\n",
       "      <td>treatment</td>\n",
       "      <td>What are the treatments for Pseudopelade of Br...</td>\n",
       "      <td>Is there treatment or a cure for pseudopelade ...</td>\n",
       "      <td>[0.060876067727804184, 0.0021591931581497192, ...</td>\n",
       "      <td>12</td>\n",
       "    </tr>\n",
       "    <tr>\n",
       "      <th>16406</th>\n",
       "      <td>information</td>\n",
       "      <td>What is (are) Desmoplastic small round cell tu...</td>\n",
       "      <td>Desmoplastic small round cell tumors (DSRCT), ...</td>\n",
       "      <td>[-0.06016289442777634, -0.20794682204723358, 0...</td>\n",
       "      <td>5</td>\n",
       "    </tr>\n",
       "  </tbody>\n",
       "</table>\n",
       "<p>16283 rows × 5 columns</p>\n",
       "</div>"
      ],
      "text/plain": [
       "                 qtype                                           Question  \\\n",
       "0       susceptibility  Who is at risk for Lymphocytic Choriomeningiti...   \n",
       "1             symptoms  What are the symptoms of Lymphocytic Choriomen...   \n",
       "2       susceptibility  Who is at risk for Lymphocytic Choriomeningiti...   \n",
       "3      exams and tests  How to diagnose Lymphocytic Choriomeningitis (...   \n",
       "4            treatment  What are the treatments for Lymphocytic Chorio...   \n",
       "...                ...                                                ...   \n",
       "16402         symptoms  What are the symptoms of Familial visceral myo...   \n",
       "16403      information              What is (are) Pseudopelade of Brocq ?   \n",
       "16404         symptoms   What are the symptoms of Pseudopelade of Brocq ?   \n",
       "16405        treatment  What are the treatments for Pseudopelade of Br...   \n",
       "16406      information  What is (are) Desmoplastic small round cell tu...   \n",
       "\n",
       "                                                  Answer  \\\n",
       "0      LCMV infections can occur after exposure to fr...   \n",
       "1      LCMV is most commonly recognized as causing ne...   \n",
       "2      Individuals of all ages who come into contact ...   \n",
       "3      During the first phase of the disease, the mos...   \n",
       "4      Aseptic meningitis, encephalitis, or meningoen...   \n",
       "...                                                  ...   \n",
       "16402  What are the signs and symptoms of Familial vi...   \n",
       "16403  Pseudopelade of Brocq (PBB) is a slowly progre...   \n",
       "16404  What are the signs and symptoms of Pseudopelad...   \n",
       "16405  Is there treatment or a cure for pseudopelade ...   \n",
       "16406  Desmoplastic small round cell tumors (DSRCT), ...   \n",
       "\n",
       "                                              embeddings  labels  \n",
       "0      [-0.07128329575061798, 0.050678037106990814, 0...      10  \n",
       "1      [-0.04978618025779724, 0.18011455237865448, 0....      11  \n",
       "2      [-0.07128329575061798, 0.050678037106990814, 0...      10  \n",
       "3      [-0.024111464619636536, 0.10768356174230576, -...       2  \n",
       "4      [-0.03893835470080376, 0.1749821901321411, 0.1...      12  \n",
       "...                                                  ...     ...  \n",
       "16402  [0.027457650750875473, 0.024152755737304688, 0...      11  \n",
       "16403  [-0.0652286633849144, 0.026916204020380974, 0....       5  \n",
       "16404  [0.05389842018485069, 0.01402939110994339, -0....      11  \n",
       "16405  [0.060876067727804184, 0.0021591931581497192, ...      12  \n",
       "16406  [-0.06016289442777634, -0.20794682204723358, 0...       5  \n",
       "\n",
       "[16283 rows x 5 columns]"
      ]
     },
     "metadata": {},
     "output_type": "display_data"
    },
    {
     "data": {
      "text/plain": [
       "(16283, 5)"
      ]
     },
     "execution_count": 26,
     "metadata": {},
     "output_type": "execute_result"
    }
   ],
   "source": [
    "display(df_train)\n",
    "df_train.shape"
   ]
  },
  {
   "cell_type": "code",
   "execution_count": 28,
   "id": "14cd3152",
   "metadata": {},
   "outputs": [],
   "source": [
    "from sklearn.model_selection import train_test_split"
   ]
  },
  {
   "cell_type": "code",
   "execution_count": 29,
   "id": "52c07056",
   "metadata": {},
   "outputs": [],
   "source": [
    "train_df, test_df = train_test_split(df_train ,test_size = 0.3, random_state = seed)"
   ]
  },
  {
   "cell_type": "code",
   "execution_count": 30,
   "id": "313542fa",
   "metadata": {},
   "outputs": [
    {
     "data": {
      "text/plain": [
       "(11398, 5)"
      ]
     },
     "metadata": {},
     "output_type": "display_data"
    },
    {
     "data": {
      "text/html": [
       "<div>\n",
       "<style scoped>\n",
       "    .dataframe tbody tr th:only-of-type {\n",
       "        vertical-align: middle;\n",
       "    }\n",
       "\n",
       "    .dataframe tbody tr th {\n",
       "        vertical-align: top;\n",
       "    }\n",
       "\n",
       "    .dataframe thead th {\n",
       "        text-align: right;\n",
       "    }\n",
       "</style>\n",
       "<table border=\"1\" class=\"dataframe\">\n",
       "  <thead>\n",
       "    <tr style=\"text-align: right;\">\n",
       "      <th></th>\n",
       "      <th>qtype</th>\n",
       "      <th>Question</th>\n",
       "      <th>Answer</th>\n",
       "      <th>embeddings</th>\n",
       "      <th>labels</th>\n",
       "    </tr>\n",
       "  </thead>\n",
       "  <tbody>\n",
       "    <tr>\n",
       "      <th>5025</th>\n",
       "      <td>information</td>\n",
       "      <td>Do you have information about Vasectomy</td>\n",
       "      <td>Summary : Vasectomy is a type of surgery that ...</td>\n",
       "      <td>[0.17138062417507172, -0.27212315797805786, -0...</td>\n",
       "      <td>5</td>\n",
       "    </tr>\n",
       "    <tr>\n",
       "      <th>5807</th>\n",
       "      <td>treatment</td>\n",
       "      <td>What are the treatments for KBG syndrome ?</td>\n",
       "      <td>These resources address the diagnosis or manag...</td>\n",
       "      <td>[-0.002629425609484315, 0.1609044075012207, 0....</td>\n",
       "      <td>12</td>\n",
       "    </tr>\n",
       "    <tr>\n",
       "      <th>3187</th>\n",
       "      <td>treatment</td>\n",
       "      <td>What are the treatments for Hairy Cell Leukemia ?</td>\n",
       "      <td>Key Points\\n                    - There are di...</td>\n",
       "      <td>[0.1583051234483719, 0.12240847945213318, 0.03...</td>\n",
       "      <td>12</td>\n",
       "    </tr>\n",
       "    <tr>\n",
       "      <th>13884</th>\n",
       "      <td>symptoms</td>\n",
       "      <td>What are the symptoms of Infantile spasms broa...</td>\n",
       "      <td>What are the signs and symptoms of Infantile s...</td>\n",
       "      <td>[-0.034341517835855484, 0.2556841969490051, 0....</td>\n",
       "      <td>11</td>\n",
       "    </tr>\n",
       "    <tr>\n",
       "      <th>3917</th>\n",
       "      <td>treatment</td>\n",
       "      <td>What are the treatments for Parkinson's Disease ?</td>\n",
       "      <td>Deep Brain Stimulation Deep brain stimulation,...</td>\n",
       "      <td>[0.24707061052322388, 0.20034369826316833, 0.0...</td>\n",
       "      <td>12</td>\n",
       "    </tr>\n",
       "  </tbody>\n",
       "</table>\n",
       "</div>"
      ],
      "text/plain": [
       "             qtype                                           Question  \\\n",
       "5025   information            Do you have information about Vasectomy   \n",
       "5807     treatment         What are the treatments for KBG syndrome ?   \n",
       "3187     treatment  What are the treatments for Hairy Cell Leukemia ?   \n",
       "13884     symptoms  What are the symptoms of Infantile spasms broa...   \n",
       "3917     treatment  What are the treatments for Parkinson's Disease ?   \n",
       "\n",
       "                                                  Answer  \\\n",
       "5025   Summary : Vasectomy is a type of surgery that ...   \n",
       "5807   These resources address the diagnosis or manag...   \n",
       "3187   Key Points\\n                    - There are di...   \n",
       "13884  What are the signs and symptoms of Infantile s...   \n",
       "3917   Deep Brain Stimulation Deep brain stimulation,...   \n",
       "\n",
       "                                              embeddings  labels  \n",
       "5025   [0.17138062417507172, -0.27212315797805786, -0...       5  \n",
       "5807   [-0.002629425609484315, 0.1609044075012207, 0....      12  \n",
       "3187   [0.1583051234483719, 0.12240847945213318, 0.03...      12  \n",
       "13884  [-0.034341517835855484, 0.2556841969490051, 0....      11  \n",
       "3917   [0.24707061052322388, 0.20034369826316833, 0.0...      12  "
      ]
     },
     "metadata": {},
     "output_type": "display_data"
    }
   ],
   "source": [
    "display(train_df.shape)\n",
    "display(train_df.head())"
   ]
  },
  {
   "cell_type": "code",
   "execution_count": 31,
   "id": "0fac6db0",
   "metadata": {},
   "outputs": [
    {
     "data": {
      "text/plain": [
       "(4885, 5)"
      ]
     },
     "metadata": {},
     "output_type": "display_data"
    },
    {
     "data": {
      "text/html": [
       "<div>\n",
       "<style scoped>\n",
       "    .dataframe tbody tr th:only-of-type {\n",
       "        vertical-align: middle;\n",
       "    }\n",
       "\n",
       "    .dataframe tbody tr th {\n",
       "        vertical-align: top;\n",
       "    }\n",
       "\n",
       "    .dataframe thead th {\n",
       "        text-align: right;\n",
       "    }\n",
       "</style>\n",
       "<table border=\"1\" class=\"dataframe\">\n",
       "  <thead>\n",
       "    <tr style=\"text-align: right;\">\n",
       "      <th></th>\n",
       "      <th>qtype</th>\n",
       "      <th>Question</th>\n",
       "      <th>Answer</th>\n",
       "      <th>embeddings</th>\n",
       "      <th>labels</th>\n",
       "    </tr>\n",
       "  </thead>\n",
       "  <tbody>\n",
       "    <tr>\n",
       "      <th>12083</th>\n",
       "      <td>symptoms</td>\n",
       "      <td>What are the symptoms of Harrod Doman Keele sy...</td>\n",
       "      <td>What are the signs and symptoms of Harrod Doma...</td>\n",
       "      <td>[-0.036988742649555206, 0.21709388494491577, -...</td>\n",
       "      <td>11</td>\n",
       "    </tr>\n",
       "    <tr>\n",
       "      <th>15285</th>\n",
       "      <td>symptoms</td>\n",
       "      <td>What are the symptoms of Preaxial polydactyly ...</td>\n",
       "      <td>What are the signs and symptoms of Preaxial po...</td>\n",
       "      <td>[0.024329952895641327, 0.18098314106464386, -0...</td>\n",
       "      <td>11</td>\n",
       "    </tr>\n",
       "    <tr>\n",
       "      <th>1662</th>\n",
       "      <td>causes</td>\n",
       "      <td>What causes What I need to know about Hirschsp...</td>\n",
       "      <td>Before birth, a childs nerve cells normally gr...</td>\n",
       "      <td>[0.21775877475738525, 0.16504423320293427, 0.0...</td>\n",
       "      <td>0</td>\n",
       "    </tr>\n",
       "    <tr>\n",
       "      <th>11238</th>\n",
       "      <td>symptoms</td>\n",
       "      <td>What are the symptoms of Achondrogenesis ?</td>\n",
       "      <td>What are the signs and symptoms of Achondrogen...</td>\n",
       "      <td>[0.03325362876057625, 0.023183491080999374, -0...</td>\n",
       "      <td>11</td>\n",
       "    </tr>\n",
       "    <tr>\n",
       "      <th>13787</th>\n",
       "      <td>symptoms</td>\n",
       "      <td>What are the symptoms of Trigger thumb ?</td>\n",
       "      <td>What are the signs and symptoms of Trigger thu...</td>\n",
       "      <td>[0.051974281668663025, 0.10295618325471878, -0...</td>\n",
       "      <td>11</td>\n",
       "    </tr>\n",
       "  </tbody>\n",
       "</table>\n",
       "</div>"
      ],
      "text/plain": [
       "          qtype                                           Question  \\\n",
       "12083  symptoms  What are the symptoms of Harrod Doman Keele sy...   \n",
       "15285  symptoms  What are the symptoms of Preaxial polydactyly ...   \n",
       "1662     causes  What causes What I need to know about Hirschsp...   \n",
       "11238  symptoms         What are the symptoms of Achondrogenesis ?   \n",
       "13787  symptoms           What are the symptoms of Trigger thumb ?   \n",
       "\n",
       "                                                  Answer  \\\n",
       "12083  What are the signs and symptoms of Harrod Doma...   \n",
       "15285  What are the signs and symptoms of Preaxial po...   \n",
       "1662   Before birth, a childs nerve cells normally gr...   \n",
       "11238  What are the signs and symptoms of Achondrogen...   \n",
       "13787  What are the signs and symptoms of Trigger thu...   \n",
       "\n",
       "                                              embeddings  labels  \n",
       "12083  [-0.036988742649555206, 0.21709388494491577, -...      11  \n",
       "15285  [0.024329952895641327, 0.18098314106464386, -0...      11  \n",
       "1662   [0.21775877475738525, 0.16504423320293427, 0.0...       0  \n",
       "11238  [0.03325362876057625, 0.023183491080999374, -0...      11  \n",
       "13787  [0.051974281668663025, 0.10295618325471878, -0...      11  "
      ]
     },
     "metadata": {},
     "output_type": "display_data"
    }
   ],
   "source": [
    "display(test_df.shape)\n",
    "display(test_df.head())"
   ]
  },
  {
   "cell_type": "code",
   "execution_count": 32,
   "id": "62b196b0",
   "metadata": {},
   "outputs": [],
   "source": [
    "import tensorflow as tf\n",
    "from tensorflow.keras.models import Sequential\n",
    "from tensorflow.keras.layers import Dense, Dropout\n",
    "from tensorflow.keras.optimizers import Adam\n",
    "from tensorflow.keras.losses import SparseCategoricalCrossentropy"
   ]
  },
  {
   "cell_type": "code",
   "execution_count": 33,
   "id": "98b49fc1",
   "metadata": {},
   "outputs": [],
   "source": [
    "X = np.array(train_df['embeddings'].to_list())\n",
    "y = train_df['labels']"
   ]
  },
  {
   "cell_type": "code",
   "execution_count": 34,
   "id": "9ff07999",
   "metadata": {},
   "outputs": [
    {
     "data": {
      "text/plain": [
       "(11398, 768)"
      ]
     },
     "execution_count": 34,
     "metadata": {},
     "output_type": "execute_result"
    }
   ],
   "source": [
    "X.shape"
   ]
  },
  {
   "cell_type": "code",
   "execution_count": 35,
   "id": "a2658b2f",
   "metadata": {},
   "outputs": [
    {
     "data": {
      "text/plain": [
       "(11398,)"
      ]
     },
     "execution_count": 35,
     "metadata": {},
     "output_type": "execute_result"
    }
   ],
   "source": [
    "y.shape"
   ]
  },
  {
   "cell_type": "code",
   "execution_count": 41,
   "id": "ae4083b1",
   "metadata": {},
   "outputs": [],
   "source": [
    "x_train, x_val, y_train, y_val = train_test_split(X, y ,test_size = 0.3, random_state = seed)"
   ]
  },
  {
   "cell_type": "code",
   "execution_count": 42,
   "id": "90e296c8",
   "metadata": {},
   "outputs": [
    {
     "data": {
      "text/plain": [
       "(7978, 768)"
      ]
     },
     "metadata": {},
     "output_type": "display_data"
    },
    {
     "data": {
      "text/plain": [
       "(3420, 768)"
      ]
     },
     "metadata": {},
     "output_type": "display_data"
    },
    {
     "data": {
      "text/plain": [
       "(7978,)"
      ]
     },
     "metadata": {},
     "output_type": "display_data"
    },
    {
     "data": {
      "text/plain": [
       "(3420,)"
      ]
     },
     "metadata": {},
     "output_type": "display_data"
    }
   ],
   "source": [
    "display(x_train.shape)\n",
    "display(x_val.shape)\n",
    "display(y_train.shape)\n",
    "display(y_val.shape)"
   ]
  },
  {
   "cell_type": "code",
   "execution_count": 64,
   "id": "ea2c8b7d",
   "metadata": {},
   "outputs": [
    {
     "name": "stdout",
     "output_type": "stream",
     "text": [
      "Model: \"sequential_3\"\n",
      "_________________________________________________________________\n",
      " Layer (type)                Output Shape              Param #   \n",
      "=================================================================\n",
      " dense_15 (Dense)            (None, 512)               393728    \n",
      "                                                                 \n",
      " dropout_12 (Dropout)        (None, 512)               0         \n",
      "                                                                 \n",
      " dense_16 (Dense)            (None, 256)               131328    \n",
      "                                                                 \n",
      " dropout_13 (Dropout)        (None, 256)               0         \n",
      "                                                                 \n",
      " dense_17 (Dense)            (None, 128)               32896     \n",
      "                                                                 \n",
      " dropout_14 (Dropout)        (None, 128)               0         \n",
      "                                                                 \n",
      " dense_18 (Dense)            (None, 64)                8256      \n",
      "                                                                 \n",
      " dropout_15 (Dropout)        (None, 64)                0         \n",
      "                                                                 \n",
      " dense_19 (Dense)            (None, 14)                910       \n",
      "                                                                 \n",
      "=================================================================\n",
      "Total params: 567,118\n",
      "Trainable params: 567,118\n",
      "Non-trainable params: 0\n",
      "_________________________________________________________________\n"
     ]
    }
   ],
   "source": [
    "model_ann = Sequential([\n",
    "    Dense(512, input_shape = (768,), activation = 'relu'),\n",
    "    Dropout(0.2),\n",
    "    Dense(256, activation = 'relu'),\n",
    "    Dropout(0.3),\n",
    "    Dense(128, activation = 'relu'),\n",
    "    Dropout(0.5),\n",
    "    Dense(64, activation = 'relu'),\n",
    "    Dropout(0.3),\n",
    "    Dense(14, activation = 'softmax')\n",
    "])\n",
    "model_ann.summary()"
   ]
  },
  {
   "cell_type": "code",
   "execution_count": 65,
   "id": "18d3dc12",
   "metadata": {},
   "outputs": [],
   "source": [
    "model_ann.compile(\n",
    "    optimizer = Adam(learning_rate = 0.001),\n",
    "    loss = SparseCategoricalCrossentropy(),\n",
    "    metrics = ['accuracy']\n",
    ")"
   ]
  },
  {
   "cell_type": "code",
   "execution_count": 66,
   "id": "10128487",
   "metadata": {},
   "outputs": [
    {
     "name": "stdout",
     "output_type": "stream",
     "text": [
      "Epoch 1/10\n",
      "998/998 [==============================] - 11s 9ms/step - loss: 0.5943 - accuracy: 0.8057 - val_loss: 0.0492 - val_accuracy: 0.9848\n",
      "Epoch 2/10\n",
      "998/998 [==============================] - 9s 9ms/step - loss: 0.1122 - accuracy: 0.9679 - val_loss: 0.0126 - val_accuracy: 0.9974\n",
      "Epoch 3/10\n",
      "998/998 [==============================] - 9s 9ms/step - loss: 0.0601 - accuracy: 0.9838 - val_loss: 0.0092 - val_accuracy: 0.9974\n",
      "Epoch 4/10\n",
      "998/998 [==============================] - 9s 9ms/step - loss: 0.0279 - accuracy: 0.9935 - val_loss: 0.0092 - val_accuracy: 0.9974\n",
      "Epoch 5/10\n",
      "998/998 [==============================] - 9s 9ms/step - loss: 0.0596 - accuracy: 0.9863 - val_loss: 0.0094 - val_accuracy: 0.9977\n",
      "Epoch 6/10\n",
      "998/998 [==============================] - 9s 9ms/step - loss: 0.0469 - accuracy: 0.9906 - val_loss: 0.0207 - val_accuracy: 0.9959\n",
      "Epoch 7/10\n",
      "998/998 [==============================] - 9s 9ms/step - loss: 0.0390 - accuracy: 0.9912 - val_loss: 0.0254 - val_accuracy: 0.9947\n",
      "Epoch 8/10\n",
      "998/998 [==============================] - 9s 9ms/step - loss: 0.0172 - accuracy: 0.9951 - val_loss: 0.0158 - val_accuracy: 0.9968\n",
      "Epoch 9/10\n",
      "998/998 [==============================] - 9s 9ms/step - loss: 0.0492 - accuracy: 0.9891 - val_loss: 0.0250 - val_accuracy: 0.9953\n",
      "Epoch 10/10\n",
      "998/998 [==============================] - 9s 9ms/step - loss: 0.0205 - accuracy: 0.9950 - val_loss: 0.0073 - val_accuracy: 0.9982\n"
     ]
    }
   ],
   "source": [
    "history = model_ann.fit(\n",
    "    x_train, y_train,\n",
    "    epochs = 10,\n",
    "    batch_size = 8,\n",
    "    validation_data = (x_val,y_val)\n",
    ")"
   ]
  },
  {
   "cell_type": "code",
   "execution_count": 67,
   "id": "57c3745d",
   "metadata": {},
   "outputs": [
    {
     "name": "stdout",
     "output_type": "stream",
     "text": [
      "357/357 [==============================] - 1s 3ms/step - loss: 0.0034 - accuracy: 0.9991\n",
      "Validation Accuracy: 99.91%\n"
     ]
    }
   ],
   "source": [
    "loss, accuracy = model_ann.evaluate(X, y)\n",
    "print(f'Validation Accuracy: {accuracy * 100:.2f}%')"
   ]
  },
  {
   "cell_type": "code",
   "execution_count": 68,
   "id": "efbc9c8e",
   "metadata": {},
   "outputs": [
    {
     "name": "stdout",
     "output_type": "stream",
     "text": [
      "153/153 [==============================] - 1s 3ms/step\n"
     ]
    }
   ],
   "source": [
    "predictions = model_ann.predict(np.array(test_df['embeddings'].tolist()))"
   ]
  },
  {
   "cell_type": "code",
   "execution_count": 69,
   "id": "b09436cd",
   "metadata": {},
   "outputs": [],
   "source": [
    "# Convert predicted probabilities to class labels\n",
    "predicted_labels = np.argmax(predictions, axis=1)"
   ]
  },
  {
   "cell_type": "code",
   "execution_count": 56,
   "id": "762807a9",
   "metadata": {},
   "outputs": [],
   "source": [
    "from sklearn.metrics import accuracy_score, f1_score, precision_score, recall_score, roc_auc_score, roc_curve, auc"
   ]
  },
  {
   "cell_type": "code",
   "execution_count": 70,
   "id": "864cc7a5",
   "metadata": {},
   "outputs": [],
   "source": [
    "# Calculate evaluation metrics\n",
    "accuracy = accuracy_score(test_df['labels'], predicted_labels)\n",
    "f1 = f1_score(test_df['labels'], predicted_labels, average = 'weighted')  # Use weighted average for multi-class\n",
    "precision = precision_score(test_df['labels'], predicted_labels, average='weighted')\n",
    "recall = recall_score(test_df['labels'], predicted_labels, average='weighted')"
   ]
  },
  {
   "cell_type": "code",
   "execution_count": 71,
   "id": "67f688de",
   "metadata": {},
   "outputs": [
    {
     "name": "stdout",
     "output_type": "stream",
     "text": [
      "Test Accuracy: 99.90%\n",
      "Weighted F1 Score: 1.00\n",
      "Weighted Precision: 1.00\n",
      "Weighted Recall: 1.00\n"
     ]
    }
   ],
   "source": [
    "# Print the evaluation metrics\n",
    "print(f'Test Accuracy: {accuracy * 100:.2f}%')\n",
    "print(f'Weighted F1 Score: {f1:.2f}')\n",
    "print(f'Weighted Precision: {precision:.2f}')\n",
    "print(f'Weighted Recall: {recall:.2f}')"
   ]
  },
  {
   "cell_type": "code",
   "execution_count": 72,
   "id": "debae20e",
   "metadata": {},
   "outputs": [],
   "source": [
    "from sklearn.metrics import confusion_matrix, ConfusionMatrixDisplay"
   ]
  },
  {
   "cell_type": "code",
   "execution_count": 74,
   "id": "e2156e0e",
   "metadata": {},
   "outputs": [
    {
     "data": {
      "text/plain": [
       "<Figure size 3000x3000 with 0 Axes>"
      ]
     },
     "metadata": {},
     "output_type": "display_data"
    },
    {
     "data": {
      "image/png": "[encoded data removed]",
      "text/plain": [
       "<Figure size 640x480 with 2 Axes>"
      ]
     },
     "metadata": {},
     "output_type": "display_data"
    }
   ],
   "source": [
    "# Calculate the confusion matrix\n",
    "cm = confusion_matrix(test_df['labels'], predicted_labels)\n",
    "\n",
    "# Create a larger figure for better readability\n",
    "plt.figure(figsize=(30,30))\n",
    "\n",
    "# Display the confusion matrix with tilted x-tick labels\n",
    "disp = ConfusionMatrixDisplay(confusion_matrix=cm, display_labels=label_encoder.classes_)\n",
    "disp.plot(cmap=plt.cm.Blues, xticks_rotation=45)\n",
    "\n",
    "plt.title('Confusion Matrix')\n",
    "plt.show()"
   ]
  },
  {
   "cell_type": "code",
   "execution_count": null,
   "id": "e5f5a722",
   "metadata": {},
   "outputs": [],
   "source": []
  }
 ],
 "metadata": {
  "kernelspec": {
   "display_name": "Python 3 (ipykernel)",
   "language": "python",
   "name": "python3"
  },
  "language_info": {
   "codemirror_mode": {
    "name": "ipython",
    "version": 3
   },
   "file_extension": ".py",
   "mimetype": "text/x-python",
   "name": "python",
   "nbconvert_exporter": "python",
   "pygments_lexer": "ipython3",
   "version": "3.10.9"
  }
 },
 "nbformat": 4,
 "nbformat_minor": 5
}
