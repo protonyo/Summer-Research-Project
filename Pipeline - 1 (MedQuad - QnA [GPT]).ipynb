{
 "cells": [
  {
   "cell_type": "code",
   "execution_count": 1,
   "id": "202fc153",
   "metadata": {},
   "outputs": [],
   "source": [
    "seed = 42"
   ]
  },
  {
   "cell_type": "code",
   "execution_count": 2,
   "id": "3fc699e1",
   "metadata": {},
   "outputs": [
    {
     "name": "stderr",
     "output_type": "stream",
     "text": [
      "C:\\Users\\vardh\\AppData\\Roaming\\Python\\Python310\\site-packages\\pandas\\core\\arrays\\masked.py:60: UserWarning: Pandas requires version '1.3.6' or newer of 'bottleneck' (version '1.3.5' currently installed).\n",
      "  from pandas.core import (\n"
     ]
    }
   ],
   "source": [
    "import pandas as pd\n",
    "import numpy as np\n",
    "import matplotlib.pyplot as plt\n",
    "import seaborn as sns\n",
    "import torch\n",
    "import re"
   ]
  },
  {
   "cell_type": "code",
   "execution_count": 3,
   "id": "3ed06a3b",
   "metadata": {},
   "outputs": [],
   "source": [
    "from datasets import load_dataset\n",
    "\n",
    "dataset = load_dataset(\"keivalya/MedQuad-MedicalQnADataset\")"
   ]
  },
  {
   "cell_type": "code",
   "execution_count": 4,
   "id": "45d317bf",
   "metadata": {},
   "outputs": [],
   "source": [
    "train = dataset['train']"
   ]
  },
  {
   "cell_type": "code",
   "execution_count": 5,
   "id": "7d5fa250",
   "metadata": {},
   "outputs": [],
   "source": [
    "train_df = pd.DataFrame(train)"
   ]
  },
  {
   "cell_type": "code",
   "execution_count": 6,
   "id": "19de6e1e",
   "metadata": {},
   "outputs": [
    {
     "data": {
      "text/plain": [
       "qtype\n",
       "information        4535\n",
       "symptoms           2748\n",
       "treatment          2442\n",
       "inheritance        1446\n",
       "frequency          1120\n",
       "genetic changes    1087\n",
       "causes              727\n",
       "exams and tests     653\n",
       "research            395\n",
       "outlook             361\n",
       "susceptibility      324\n",
       "considerations      235\n",
       "prevention          210\n",
       "stages               77\n",
       "complications        46\n",
       "support groups        1\n",
       "Name: count, dtype: int64"
      ]
     },
     "execution_count": 6,
     "metadata": {},
     "output_type": "execute_result"
    }
   ],
   "source": [
    "train_df['qtype'].value_counts()"
   ]
  },
  {
   "cell_type": "code",
   "execution_count": 7,
   "id": "bc57f0ac",
   "metadata": {},
   "outputs": [],
   "source": [
    "labels_to_remove = ['support groups', 'complications', 'stages']\n",
    "df_train = train_df[~train_df['qtype'].isin(labels_to_remove)]"
   ]
  },
  {
   "cell_type": "code",
   "execution_count": 8,
   "id": "02fdf56f",
   "metadata": {},
   "outputs": [
    {
     "data": {
      "text/plain": [
       "(16283, 3)"
      ]
     },
     "execution_count": 8,
     "metadata": {},
     "output_type": "execute_result"
    }
   ],
   "source": [
    "df_train.shape"
   ]
  },
  {
   "cell_type": "code",
   "execution_count": 9,
   "id": "6ef82519",
   "metadata": {},
   "outputs": [],
   "source": [
    "from transformers import GPT2Tokenizer, GPT2Model"
   ]
  },
  {
   "cell_type": "code",
   "execution_count": 13,
   "id": "ffbd067b",
   "metadata": {},
   "outputs": [
    {
     "data": {
      "text/plain": [
       "Embedding(50258, 768)"
      ]
     },
     "execution_count": 13,
     "metadata": {},
     "output_type": "execute_result"
    }
   ],
   "source": [
    "tokenizer = GPT2Tokenizer.from_pretrained('gpt2')\n",
    "\n",
    "# Add a padding token\n",
    "tokenizer.add_special_tokens({'pad_token': '[PAD]'})\n",
    "\n",
    "model = GPT2Model.from_pretrained('gpt2')\n",
    "model.resize_token_embeddings(len(tokenizer))"
   ]
  },
  {
   "cell_type": "code",
   "execution_count": 14,
   "id": "f119fdd9",
   "metadata": {},
   "outputs": [],
   "source": [
    "def form_X_array_in_batches(tokenizer, model, texts, batch_size):\n",
    "    X_array = []\n",
    "    for i in range(0, len(texts), batch_size):\n",
    "        batch_texts = texts[i:i + batch_size]\n",
    "        inputs = tokenizer(batch_texts, max_length=512, return_tensors='pt', padding=True, truncation=True)\n",
    "        with torch.no_grad():  # Ensure no gradients are calculated\n",
    "            outputs = model(**inputs)\n",
    "        embeddings = outputs.last_hidden_state.mean(dim=1)\n",
    "        X_array.append(embeddings.cpu())  # Move embeddings to CPU to save GPU memory\n",
    "    X_array = torch.cat(X_array, dim=0)\n",
    "    return X_array"
   ]
  },
  {
   "cell_type": "code",
   "execution_count": 15,
   "id": "344c17fc",
   "metadata": {},
   "outputs": [
    {
     "name": "stdout",
     "output_type": "stream",
     "text": [
      "\n",
      " Extracting Train Embeddings\n"
     ]
    }
   ],
   "source": [
    "batch_size = 8  # Adjust batch size based on your system's memory\n",
    "print('\\n Extracting Train Embeddings')\n",
    "train_embeddings = form_X_array_in_batches(tokenizer, model, df_train['Question'].tolist(), batch_size)"
   ]
  },
  {
   "cell_type": "code",
   "execution_count": 16,
   "id": "7a1c1c64",
   "metadata": {},
   "outputs": [
    {
     "data": {
      "text/plain": [
       "torch.Size([16283, 768])"
      ]
     },
     "execution_count": 16,
     "metadata": {},
     "output_type": "execute_result"
    }
   ],
   "source": [
    "train_embeddings.shape"
   ]
  },
  {
   "cell_type": "code",
   "execution_count": 17,
   "id": "9a7d9c25",
   "metadata": {},
   "outputs": [
    {
     "data": {
      "text/plain": [
       "array([[-0.2262925 ,  0.16279407, -0.04370541, ..., -0.0290613 ,\n",
       "        -0.03939464, -0.20566402],\n",
       "       [-0.3045168 ,  0.37356162, -0.22750363, ..., -0.03350282,\n",
       "         0.03752115, -0.4000691 ],\n",
       "       [-0.2262925 ,  0.16279407, -0.04370541, ..., -0.0290613 ,\n",
       "        -0.03939464, -0.20566402],\n",
       "       ...,\n",
       "       [-0.06223495,  0.14574027, -0.16109024, ...,  0.091381  ,\n",
       "        -0.04531179, -0.2492431 ],\n",
       "       [-0.09066677,  0.0585923 , -0.09256942, ...,  0.14223264,\n",
       "        -0.13296828, -0.17588702],\n",
       "       [-0.21928038,  0.06529755, -0.42697847, ...,  0.27943325,\n",
       "        -0.25224277, -0.05991507]], dtype=float32)"
      ]
     },
     "execution_count": 17,
     "metadata": {},
     "output_type": "execute_result"
    }
   ],
   "source": [
    "train_embeddings.numpy()"
   ]
  },
  {
   "cell_type": "code",
   "execution_count": 18,
   "id": "e803e5f1",
   "metadata": {},
   "outputs": [],
   "source": [
    "# Convert each tensor to a list\n",
    "embedding_list = [train_embeddings[i].tolist() for i in range(train_embeddings.shape[0])]"
   ]
  },
  {
   "cell_type": "code",
   "execution_count": 19,
   "id": "169abe60",
   "metadata": {},
   "outputs": [
    {
     "name": "stderr",
     "output_type": "stream",
     "text": [
      "C:\\Users\\vardh\\AppData\\Local\\Temp\\ipykernel_17076\\275159606.py:2: SettingWithCopyWarning: \n",
      "A value is trying to be set on a copy of a slice from a DataFrame.\n",
      "Try using .loc[row_indexer,col_indexer] = value instead\n",
      "\n",
      "See the caveats in the documentation: https://pandas.pydata.org/pandas-docs/stable/user_guide/indexing.html#returning-a-view-versus-a-copy\n",
      "  df_train['embeddings'] = embedding_list\n"
     ]
    }
   ],
   "source": [
    "# Add these lists as a new column in the DataFrame\n",
    "df_train['embeddings'] = embedding_list"
   ]
  },
  {
   "cell_type": "code",
   "execution_count": 20,
   "id": "be41079e",
   "metadata": {},
   "outputs": [
    {
     "data": {
      "text/html": [
       "<div>\n",
       "<style scoped>\n",
       "    .dataframe tbody tr th:only-of-type {\n",
       "        vertical-align: middle;\n",
       "    }\n",
       "\n",
       "    .dataframe tbody tr th {\n",
       "        vertical-align: top;\n",
       "    }\n",
       "\n",
       "    .dataframe thead th {\n",
       "        text-align: right;\n",
       "    }\n",
       "</style>\n",
       "<table border=\"1\" class=\"dataframe\">\n",
       "  <thead>\n",
       "    <tr style=\"text-align: right;\">\n",
       "      <th></th>\n",
       "      <th>qtype</th>\n",
       "      <th>Question</th>\n",
       "      <th>Answer</th>\n",
       "      <th>embeddings</th>\n",
       "    </tr>\n",
       "  </thead>\n",
       "  <tbody>\n",
       "    <tr>\n",
       "      <th>0</th>\n",
       "      <td>susceptibility</td>\n",
       "      <td>Who is at risk for Lymphocytic Choriomeningiti...</td>\n",
       "      <td>LCMV infections can occur after exposure to fr...</td>\n",
       "      <td>[-0.22629250586032867, 0.1627940684556961, -0....</td>\n",
       "    </tr>\n",
       "    <tr>\n",
       "      <th>1</th>\n",
       "      <td>symptoms</td>\n",
       "      <td>What are the symptoms of Lymphocytic Choriomen...</td>\n",
       "      <td>LCMV is most commonly recognized as causing ne...</td>\n",
       "      <td>[-0.3045167922973633, 0.3735616207122803, -0.2...</td>\n",
       "    </tr>\n",
       "    <tr>\n",
       "      <th>2</th>\n",
       "      <td>susceptibility</td>\n",
       "      <td>Who is at risk for Lymphocytic Choriomeningiti...</td>\n",
       "      <td>Individuals of all ages who come into contact ...</td>\n",
       "      <td>[-0.22629250586032867, 0.1627940684556961, -0....</td>\n",
       "    </tr>\n",
       "    <tr>\n",
       "      <th>3</th>\n",
       "      <td>exams and tests</td>\n",
       "      <td>How to diagnose Lymphocytic Choriomeningitis (...</td>\n",
       "      <td>During the first phase of the disease, the mos...</td>\n",
       "      <td>[-0.300021231174469, 0.24014167487621307, -0.1...</td>\n",
       "    </tr>\n",
       "    <tr>\n",
       "      <th>4</th>\n",
       "      <td>treatment</td>\n",
       "      <td>What are the treatments for Lymphocytic Chorio...</td>\n",
       "      <td>Aseptic meningitis, encephalitis, or meningoen...</td>\n",
       "      <td>[-0.3512624502182007, 0.35353711247444153, -0....</td>\n",
       "    </tr>\n",
       "  </tbody>\n",
       "</table>\n",
       "</div>"
      ],
      "text/plain": [
       "             qtype                                           Question  \\\n",
       "0   susceptibility  Who is at risk for Lymphocytic Choriomeningiti...   \n",
       "1         symptoms  What are the symptoms of Lymphocytic Choriomen...   \n",
       "2   susceptibility  Who is at risk for Lymphocytic Choriomeningiti...   \n",
       "3  exams and tests  How to diagnose Lymphocytic Choriomeningitis (...   \n",
       "4        treatment  What are the treatments for Lymphocytic Chorio...   \n",
       "\n",
       "                                              Answer  \\\n",
       "0  LCMV infections can occur after exposure to fr...   \n",
       "1  LCMV is most commonly recognized as causing ne...   \n",
       "2  Individuals of all ages who come into contact ...   \n",
       "3  During the first phase of the disease, the mos...   \n",
       "4  Aseptic meningitis, encephalitis, or meningoen...   \n",
       "\n",
       "                                          embeddings  \n",
       "0  [-0.22629250586032867, 0.1627940684556961, -0....  \n",
       "1  [-0.3045167922973633, 0.3735616207122803, -0.2...  \n",
       "2  [-0.22629250586032867, 0.1627940684556961, -0....  \n",
       "3  [-0.300021231174469, 0.24014167487621307, -0.1...  \n",
       "4  [-0.3512624502182007, 0.35353711247444153, -0....  "
      ]
     },
     "execution_count": 20,
     "metadata": {},
     "output_type": "execute_result"
    }
   ],
   "source": [
    "df_train.head()"
   ]
  },
  {
   "cell_type": "code",
   "execution_count": 21,
   "id": "9f42ca1e",
   "metadata": {},
   "outputs": [],
   "source": [
    "from sklearn.preprocessing import LabelEncoder"
   ]
  },
  {
   "cell_type": "code",
   "execution_count": 22,
   "id": "fa88838f",
   "metadata": {},
   "outputs": [],
   "source": [
    "label_encoder = LabelEncoder()"
   ]
  },
  {
   "cell_type": "code",
   "execution_count": 23,
   "id": "cb2b690f",
   "metadata": {},
   "outputs": [
    {
     "name": "stderr",
     "output_type": "stream",
     "text": [
      "C:\\Users\\vardh\\AppData\\Local\\Temp\\ipykernel_17076\\2147678393.py:2: SettingWithCopyWarning: \n",
      "A value is trying to be set on a copy of a slice from a DataFrame.\n",
      "Try using .loc[row_indexer,col_indexer] = value instead\n",
      "\n",
      "See the caveats in the documentation: https://pandas.pydata.org/pandas-docs/stable/user_guide/indexing.html#returning-a-view-versus-a-copy\n",
      "  df_train['labels'] = label_encoder.fit_transform(df_train['qtype'])\n"
     ]
    }
   ],
   "source": [
    "# Fit and transform the labels\n",
    "df_train['labels'] = label_encoder.fit_transform(df_train['qtype'])"
   ]
  },
  {
   "cell_type": "code",
   "execution_count": 24,
   "id": "43ebe1fb",
   "metadata": {},
   "outputs": [],
   "source": [
    "# Create a mapping of the original labels to the encoded values\n",
    "label_mapping = dict(zip(label_encoder.classes_, label_encoder.transform(label_encoder.classes_)))"
   ]
  },
  {
   "cell_type": "code",
   "execution_count": 25,
   "id": "1789454a",
   "metadata": {},
   "outputs": [
    {
     "name": "stdout",
     "output_type": "stream",
     "text": [
      "Label Encoding Mapping:\n",
      "causes: 0\n",
      "considerations: 1\n",
      "exams and tests: 2\n",
      "frequency: 3\n",
      "genetic changes: 4\n",
      "information: 5\n",
      "inheritance: 6\n",
      "outlook: 7\n",
      "prevention: 8\n",
      "research: 9\n",
      "susceptibility: 10\n",
      "symptoms: 11\n",
      "treatment: 12\n"
     ]
    }
   ],
   "source": [
    "# Print the mapping\n",
    "print(\"Label Encoding Mapping:\")\n",
    "for original_label, encoded_label in label_mapping.items():\n",
    "    print(f\"{original_label}: {encoded_label}\")"
   ]
  },
  {
   "cell_type": "code",
   "execution_count": 26,
   "id": "c700662c",
   "metadata": {},
   "outputs": [],
   "source": [
    "from sklearn.model_selection import train_test_split"
   ]
  },
  {
   "cell_type": "code",
   "execution_count": 27,
   "id": "e37e14ce",
   "metadata": {},
   "outputs": [],
   "source": [
    "train_df, test_df = train_test_split(df_train ,test_size = 0.3, random_state = seed)"
   ]
  },
  {
   "cell_type": "code",
   "execution_count": 28,
   "id": "fef8fa5f",
   "metadata": {},
   "outputs": [
    {
     "data": {
      "text/plain": [
       "(11398, 5)"
      ]
     },
     "metadata": {},
     "output_type": "display_data"
    },
    {
     "data": {
      "text/html": [
       "<div>\n",
       "<style scoped>\n",
       "    .dataframe tbody tr th:only-of-type {\n",
       "        vertical-align: middle;\n",
       "    }\n",
       "\n",
       "    .dataframe tbody tr th {\n",
       "        vertical-align: top;\n",
       "    }\n",
       "\n",
       "    .dataframe thead th {\n",
       "        text-align: right;\n",
       "    }\n",
       "</style>\n",
       "<table border=\"1\" class=\"dataframe\">\n",
       "  <thead>\n",
       "    <tr style=\"text-align: right;\">\n",
       "      <th></th>\n",
       "      <th>qtype</th>\n",
       "      <th>Question</th>\n",
       "      <th>Answer</th>\n",
       "      <th>embeddings</th>\n",
       "      <th>labels</th>\n",
       "    </tr>\n",
       "  </thead>\n",
       "  <tbody>\n",
       "    <tr>\n",
       "      <th>5025</th>\n",
       "      <td>information</td>\n",
       "      <td>Do you have information about Vasectomy</td>\n",
       "      <td>Summary : Vasectomy is a type of surgery that ...</td>\n",
       "      <td>[-0.35619238018989563, 0.18170350790023804, 0....</td>\n",
       "      <td>5</td>\n",
       "    </tr>\n",
       "    <tr>\n",
       "      <th>5807</th>\n",
       "      <td>treatment</td>\n",
       "      <td>What are the treatments for KBG syndrome ?</td>\n",
       "      <td>These resources address the diagnosis or manag...</td>\n",
       "      <td>[-0.4737052917480469, 0.1137099489569664, -0.0...</td>\n",
       "      <td>12</td>\n",
       "    </tr>\n",
       "    <tr>\n",
       "      <th>3187</th>\n",
       "      <td>treatment</td>\n",
       "      <td>What are the treatments for Hairy Cell Leukemia ?</td>\n",
       "      <td>Key Points\\n                    - There are di...</td>\n",
       "      <td>[-0.6535325646400452, -0.09176935255527496, 0....</td>\n",
       "      <td>12</td>\n",
       "    </tr>\n",
       "    <tr>\n",
       "      <th>13884</th>\n",
       "      <td>symptoms</td>\n",
       "      <td>What are the symptoms of Infantile spasms broa...</td>\n",
       "      <td>What are the signs and symptoms of Infantile s...</td>\n",
       "      <td>[-0.2177039533853531, 0.10029027611017227, -0....</td>\n",
       "      <td>11</td>\n",
       "    </tr>\n",
       "    <tr>\n",
       "      <th>3917</th>\n",
       "      <td>treatment</td>\n",
       "      <td>What are the treatments for Parkinson's Disease ?</td>\n",
       "      <td>Deep Brain Stimulation Deep brain stimulation,...</td>\n",
       "      <td>[-0.5733923316001892, -0.08629970252513885, 0....</td>\n",
       "      <td>12</td>\n",
       "    </tr>\n",
       "  </tbody>\n",
       "</table>\n",
       "</div>"
      ],
      "text/plain": [
       "             qtype                                           Question  \\\n",
       "5025   information            Do you have information about Vasectomy   \n",
       "5807     treatment         What are the treatments for KBG syndrome ?   \n",
       "3187     treatment  What are the treatments for Hairy Cell Leukemia ?   \n",
       "13884     symptoms  What are the symptoms of Infantile spasms broa...   \n",
       "3917     treatment  What are the treatments for Parkinson's Disease ?   \n",
       "\n",
       "                                                  Answer  \\\n",
       "5025   Summary : Vasectomy is a type of surgery that ...   \n",
       "5807   These resources address the diagnosis or manag...   \n",
       "3187   Key Points\\n                    - There are di...   \n",
       "13884  What are the signs and symptoms of Infantile s...   \n",
       "3917   Deep Brain Stimulation Deep brain stimulation,...   \n",
       "\n",
       "                                              embeddings  labels  \n",
       "5025   [-0.35619238018989563, 0.18170350790023804, 0....       5  \n",
       "5807   [-0.4737052917480469, 0.1137099489569664, -0.0...      12  \n",
       "3187   [-0.6535325646400452, -0.09176935255527496, 0....      12  \n",
       "13884  [-0.2177039533853531, 0.10029027611017227, -0....      11  \n",
       "3917   [-0.5733923316001892, -0.08629970252513885, 0....      12  "
      ]
     },
     "metadata": {},
     "output_type": "display_data"
    }
   ],
   "source": [
    "display(train_df.shape)\n",
    "display(train_df.head())"
   ]
  },
  {
   "cell_type": "code",
   "execution_count": 29,
   "id": "3f9ecf4e",
   "metadata": {},
   "outputs": [
    {
     "data": {
      "text/plain": [
       "(4885, 5)"
      ]
     },
     "metadata": {},
     "output_type": "display_data"
    },
    {
     "data": {
      "text/html": [
       "<div>\n",
       "<style scoped>\n",
       "    .dataframe tbody tr th:only-of-type {\n",
       "        vertical-align: middle;\n",
       "    }\n",
       "\n",
       "    .dataframe tbody tr th {\n",
       "        vertical-align: top;\n",
       "    }\n",
       "\n",
       "    .dataframe thead th {\n",
       "        text-align: right;\n",
       "    }\n",
       "</style>\n",
       "<table border=\"1\" class=\"dataframe\">\n",
       "  <thead>\n",
       "    <tr style=\"text-align: right;\">\n",
       "      <th></th>\n",
       "      <th>qtype</th>\n",
       "      <th>Question</th>\n",
       "      <th>Answer</th>\n",
       "      <th>embeddings</th>\n",
       "      <th>labels</th>\n",
       "    </tr>\n",
       "  </thead>\n",
       "  <tbody>\n",
       "    <tr>\n",
       "      <th>12083</th>\n",
       "      <td>symptoms</td>\n",
       "      <td>What are the symptoms of Harrod Doman Keele sy...</td>\n",
       "      <td>What are the signs and symptoms of Harrod Doma...</td>\n",
       "      <td>[-0.1805633157491684, -0.03620033711194992, -0...</td>\n",
       "      <td>11</td>\n",
       "    </tr>\n",
       "    <tr>\n",
       "      <th>15285</th>\n",
       "      <td>symptoms</td>\n",
       "      <td>What are the symptoms of Preaxial polydactyly ...</td>\n",
       "      <td>What are the signs and symptoms of Preaxial po...</td>\n",
       "      <td>[-0.032827816903591156, 0.23106727004051208, -...</td>\n",
       "      <td>11</td>\n",
       "    </tr>\n",
       "    <tr>\n",
       "      <th>1662</th>\n",
       "      <td>causes</td>\n",
       "      <td>What causes What I need to know about Hirschsp...</td>\n",
       "      <td>Before birth, a childs nerve cells normally gr...</td>\n",
       "      <td>[-0.27729180455207825, -0.37023472785949707, -...</td>\n",
       "      <td>0</td>\n",
       "    </tr>\n",
       "    <tr>\n",
       "      <th>11238</th>\n",
       "      <td>symptoms</td>\n",
       "      <td>What are the symptoms of Achondrogenesis ?</td>\n",
       "      <td>What are the signs and symptoms of Achondrogen...</td>\n",
       "      <td>[-0.6117171049118042, 0.3181963860988617, -0.2...</td>\n",
       "      <td>11</td>\n",
       "    </tr>\n",
       "    <tr>\n",
       "      <th>13787</th>\n",
       "      <td>symptoms</td>\n",
       "      <td>What are the symptoms of Trigger thumb ?</td>\n",
       "      <td>What are the signs and symptoms of Trigger thu...</td>\n",
       "      <td>[-0.26635435223579407, 0.11920469254255295, -0...</td>\n",
       "      <td>11</td>\n",
       "    </tr>\n",
       "  </tbody>\n",
       "</table>\n",
       "</div>"
      ],
      "text/plain": [
       "          qtype                                           Question  \\\n",
       "12083  symptoms  What are the symptoms of Harrod Doman Keele sy...   \n",
       "15285  symptoms  What are the symptoms of Preaxial polydactyly ...   \n",
       "1662     causes  What causes What I need to know about Hirschsp...   \n",
       "11238  symptoms         What are the symptoms of Achondrogenesis ?   \n",
       "13787  symptoms           What are the symptoms of Trigger thumb ?   \n",
       "\n",
       "                                                  Answer  \\\n",
       "12083  What are the signs and symptoms of Harrod Doma...   \n",
       "15285  What are the signs and symptoms of Preaxial po...   \n",
       "1662   Before birth, a childs nerve cells normally gr...   \n",
       "11238  What are the signs and symptoms of Achondrogen...   \n",
       "13787  What are the signs and symptoms of Trigger thu...   \n",
       "\n",
       "                                              embeddings  labels  \n",
       "12083  [-0.1805633157491684, -0.03620033711194992, -0...      11  \n",
       "15285  [-0.032827816903591156, 0.23106727004051208, -...      11  \n",
       "1662   [-0.27729180455207825, -0.37023472785949707, -...       0  \n",
       "11238  [-0.6117171049118042, 0.3181963860988617, -0.2...      11  \n",
       "13787  [-0.26635435223579407, 0.11920469254255295, -0...      11  "
      ]
     },
     "metadata": {},
     "output_type": "display_data"
    }
   ],
   "source": [
    "display(test_df.shape)\n",
    "display(test_df.head())"
   ]
  },
  {
   "cell_type": "code",
   "execution_count": 30,
   "id": "a02e146a",
   "metadata": {},
   "outputs": [],
   "source": [
    "import tensorflow as tf\n",
    "from tensorflow.keras.models import Sequential\n",
    "from tensorflow.keras.layers import Dense, Dropout\n",
    "from tensorflow.keras.optimizers import Adam\n",
    "from tensorflow.keras.losses import SparseCategoricalCrossentropy"
   ]
  },
  {
   "cell_type": "code",
   "execution_count": 31,
   "id": "b62eae2d",
   "metadata": {},
   "outputs": [],
   "source": [
    "X = np.array(train_df['embeddings'].to_list())\n",
    "y = train_df['labels']"
   ]
  },
  {
   "cell_type": "code",
   "execution_count": 32,
   "id": "01c6a8f3",
   "metadata": {},
   "outputs": [],
   "source": [
    "x_train, x_val, y_train, y_val = train_test_split(X, y ,test_size = 0.3, random_state = seed)"
   ]
  },
  {
   "cell_type": "code",
   "execution_count": 33,
   "id": "e438dd97",
   "metadata": {},
   "outputs": [
    {
     "data": {
      "text/plain": [
       "(7978, 768)"
      ]
     },
     "metadata": {},
     "output_type": "display_data"
    },
    {
     "data": {
      "text/plain": [
       "(3420, 768)"
      ]
     },
     "metadata": {},
     "output_type": "display_data"
    },
    {
     "data": {
      "text/plain": [
       "(7978,)"
      ]
     },
     "metadata": {},
     "output_type": "display_data"
    },
    {
     "data": {
      "text/plain": [
       "(3420,)"
      ]
     },
     "metadata": {},
     "output_type": "display_data"
    }
   ],
   "source": [
    "display(x_train.shape)\n",
    "display(x_val.shape)\n",
    "display(y_train.shape)\n",
    "display(y_val.shape)"
   ]
  },
  {
   "cell_type": "code",
   "execution_count": 34,
   "id": "87fbdf9b",
   "metadata": {},
   "outputs": [
    {
     "name": "stdout",
     "output_type": "stream",
     "text": [
      "Model: \"sequential\"\n",
      "_________________________________________________________________\n",
      " Layer (type)                Output Shape              Param #   \n",
      "=================================================================\n",
      " dense (Dense)               (None, 512)               393728    \n",
      "                                                                 \n",
      " dropout (Dropout)           (None, 512)               0         \n",
      "                                                                 \n",
      " dense_1 (Dense)             (None, 256)               131328    \n",
      "                                                                 \n",
      " dropout_1 (Dropout)         (None, 256)               0         \n",
      "                                                                 \n",
      " dense_2 (Dense)             (None, 128)               32896     \n",
      "                                                                 \n",
      " dropout_2 (Dropout)         (None, 128)               0         \n",
      "                                                                 \n",
      " dense_3 (Dense)             (None, 64)                8256      \n",
      "                                                                 \n",
      " dropout_3 (Dropout)         (None, 64)                0         \n",
      "                                                                 \n",
      " dense_4 (Dense)             (None, 14)                910       \n",
      "                                                                 \n",
      "=================================================================\n",
      "Total params: 567,118\n",
      "Trainable params: 567,118\n",
      "Non-trainable params: 0\n",
      "_________________________________________________________________\n"
     ]
    }
   ],
   "source": [
    "model_ann = Sequential([\n",
    "    Dense(512, input_shape = (768,), activation = 'relu'),\n",
    "    Dropout(0.2),\n",
    "    Dense(256, activation = 'relu'),\n",
    "    Dropout(0.3),\n",
    "    Dense(128, activation = 'relu'),\n",
    "    Dropout(0.5),\n",
    "    Dense(64, activation = 'relu'),\n",
    "    Dropout(0.3),\n",
    "    Dense(14, activation = 'softmax')\n",
    "])\n",
    "model_ann.summary()"
   ]
  },
  {
   "cell_type": "code",
   "execution_count": 35,
   "id": "f84e2929",
   "metadata": {},
   "outputs": [],
   "source": [
    "model_ann.compile(\n",
    "    optimizer = Adam(learning_rate = 0.001),\n",
    "    loss = SparseCategoricalCrossentropy(),\n",
    "    metrics = ['accuracy']\n",
    ")"
   ]
  },
  {
   "cell_type": "code",
   "execution_count": 36,
   "id": "e1e798c3",
   "metadata": {},
   "outputs": [
    {
     "name": "stdout",
     "output_type": "stream",
     "text": [
      "Epoch 1/10\n",
      "998/998 [==============================] - 7s 5ms/step - loss: 1.7836 - accuracy: 0.4502 - val_loss: 0.5923 - val_accuracy: 0.8327\n",
      "Epoch 2/10\n",
      "998/998 [==============================] - 5s 5ms/step - loss: 0.4367 - accuracy: 0.8541 - val_loss: 0.1392 - val_accuracy: 0.9635\n",
      "Epoch 3/10\n",
      "998/998 [==============================] - 5s 5ms/step - loss: 0.2070 - accuracy: 0.9347 - val_loss: 0.0653 - val_accuracy: 0.9754\n",
      "Epoch 4/10\n",
      "998/998 [==============================] - 5s 5ms/step - loss: 0.1280 - accuracy: 0.9598 - val_loss: 0.0396 - val_accuracy: 0.9857\n",
      "Epoch 5/10\n",
      "998/998 [==============================] - 5s 5ms/step - loss: 0.0888 - accuracy: 0.9754 - val_loss: 0.0240 - val_accuracy: 0.9915\n",
      "Epoch 6/10\n",
      "998/998 [==============================] - 5s 5ms/step - loss: 0.1104 - accuracy: 0.9694 - val_loss: 0.0327 - val_accuracy: 0.9921\n",
      "Epoch 7/10\n",
      "998/998 [==============================] - 6s 6ms/step - loss: 0.0857 - accuracy: 0.9751 - val_loss: 0.0203 - val_accuracy: 0.9942\n",
      "Epoch 8/10\n",
      "998/998 [==============================] - 5s 5ms/step - loss: 0.0852 - accuracy: 0.9773 - val_loss: 0.0209 - val_accuracy: 0.9930\n",
      "Epoch 9/10\n",
      "998/998 [==============================] - 5s 6ms/step - loss: 0.0789 - accuracy: 0.9796 - val_loss: 0.0138 - val_accuracy: 0.9956\n",
      "Epoch 10/10\n",
      "998/998 [==============================] - 5s 6ms/step - loss: 0.0810 - accuracy: 0.9784 - val_loss: 0.0157 - val_accuracy: 0.9965\n"
     ]
    }
   ],
   "source": [
    "history = model_ann.fit(\n",
    "    x_train, y_train,\n",
    "    epochs = 10,\n",
    "    batch_size = 8,\n",
    "    validation_data = (x_val,y_val)\n",
    ")"
   ]
  },
  {
   "cell_type": "code",
   "execution_count": 37,
   "id": "c752c16d",
   "metadata": {},
   "outputs": [
    {
     "name": "stdout",
     "output_type": "stream",
     "text": [
      "357/357 [==============================] - 1s 1ms/step - loss: 0.0086 - accuracy: 0.9982\n",
      "Validation Accuracy: 99.82%\n"
     ]
    }
   ],
   "source": [
    "loss, accuracy = model_ann.evaluate(X, y)\n",
    "print(f'Validation Accuracy: {accuracy * 100:.2f}%')"
   ]
  },
  {
   "cell_type": "code",
   "execution_count": 38,
   "id": "aac0c765",
   "metadata": {},
   "outputs": [
    {
     "name": "stdout",
     "output_type": "stream",
     "text": [
      "153/153 [==============================] - 0s 1ms/step\n"
     ]
    }
   ],
   "source": [
    "predictions = model_ann.predict(np.array(test_df['embeddings'].tolist()))"
   ]
  },
  {
   "cell_type": "code",
   "execution_count": 39,
   "id": "681f63b5",
   "metadata": {},
   "outputs": [],
   "source": [
    "# Convert predicted probabilities to class labels\n",
    "predicted_labels = np.argmax(predictions, axis=1)"
   ]
  },
  {
   "cell_type": "code",
   "execution_count": 40,
   "id": "cf42a7b5",
   "metadata": {},
   "outputs": [],
   "source": [
    "from sklearn.metrics import accuracy_score, f1_score, precision_score, recall_score, roc_auc_score, roc_curve, auc"
   ]
  },
  {
   "cell_type": "code",
   "execution_count": 41,
   "id": "752267c1",
   "metadata": {},
   "outputs": [],
   "source": [
    "# Calculate evaluation metrics\n",
    "accuracy = accuracy_score(test_df['labels'], predicted_labels)\n",
    "f1 = f1_score(test_df['labels'], predicted_labels, average = 'weighted')  # Use weighted average for multi-class\n",
    "precision = precision_score(test_df['labels'], predicted_labels, average='weighted')\n",
    "recall = recall_score(test_df['labels'], predicted_labels, average='weighted')"
   ]
  },
  {
   "cell_type": "code",
   "execution_count": 42,
   "id": "2a0cc092",
   "metadata": {},
   "outputs": [
    {
     "name": "stdout",
     "output_type": "stream",
     "text": [
      "Test Accuracy: 99.69%\n",
      "Weighted F1 Score: 1.00\n",
      "Weighted Precision: 1.00\n",
      "Weighted Recall: 1.00\n"
     ]
    }
   ],
   "source": [
    "# Print the evaluation metrics\n",
    "print(f'Test Accuracy: {accuracy * 100:.2f}%')\n",
    "print(f'Weighted F1 Score: {f1:.2f}')\n",
    "print(f'Weighted Precision: {precision:.2f}')\n",
    "print(f'Weighted Recall: {recall:.2f}')"
   ]
  },
  {
   "cell_type": "code",
   "execution_count": 43,
   "id": "f8d76136",
   "metadata": {},
   "outputs": [],
   "source": [
    "from sklearn.metrics import confusion_matrix, ConfusionMatrixDisplay"
   ]
  },
  {
   "cell_type": "code",
   "execution_count": 44,
   "id": "90abe9e9",
   "metadata": {},
   "outputs": [
    {
     "data": {
      "text/plain": [
       "<Figure size 3000x3000 with 0 Axes>"
      ]
     },
     "metadata": {},
     "output_type": "display_data"
    },
    {
     "data": {
      "image/png": "[encoded data removed]",
      "text/plain": [
       "<Figure size 640x480 with 2 Axes>"
      ]
     },
     "metadata": {},
     "output_type": "display_data"
    }
   ],
   "source": [
    "# Calculate the confusion matrix\n",
    "cm = confusion_matrix(test_df['labels'], predicted_labels)\n",
    "\n",
    "# Create a larger figure for better readability\n",
    "plt.figure(figsize=(30,30))\n",
    "\n",
    "# Display the confusion matrix with tilted x-tick labels\n",
    "disp = ConfusionMatrixDisplay(confusion_matrix=cm, display_labels=label_encoder.classes_)\n",
    "disp.plot(cmap=plt.cm.Blues, xticks_rotation=45)\n",
    "\n",
    "plt.title('Confusion Matrix')\n",
    "plt.show()"
   ]
  },
  {
   "cell_type": "code",
   "execution_count": null,
   "id": "cdfe9a8f",
   "metadata": {},
   "outputs": [],
   "source": []
  }
 ],
 "metadata": {
  "kernelspec": {
   "display_name": "Python 3 (ipykernel)",
   "language": "python",
   "name": "python3"
  },
  "language_info": {
   "codemirror_mode": {
    "name": "ipython",
    "version": 3
   },
   "file_extension": ".py",
   "mimetype": "text/x-python",
   "name": "python",
   "nbconvert_exporter": "python",
   "pygments_lexer": "ipython3",
   "version": "3.10.9"
  }
 },
 "nbformat": 4,
 "nbformat_minor": 5
}
