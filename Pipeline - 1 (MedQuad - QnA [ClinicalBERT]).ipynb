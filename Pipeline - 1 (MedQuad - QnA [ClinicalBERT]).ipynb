{
 "cells": [
  {
   "cell_type": "code",
   "execution_count": 1,
   "id": "01533819",
   "metadata": {},
   "outputs": [],
   "source": [
    "seed = 42"
   ]
  },
  {
   "cell_type": "code",
   "execution_count": 2,
   "id": "ee36ee21",
   "metadata": {},
   "outputs": [
    {
     "name": "stderr",
     "output_type": "stream",
     "text": [
      "C:\\Users\\vardh\\AppData\\Roaming\\Python\\Python310\\site-packages\\pandas\\core\\arrays\\masked.py:60: UserWarning: Pandas requires version '1.3.6' or newer of 'bottleneck' (version '1.3.5' currently installed).\n",
      "  from pandas.core import (\n"
     ]
    }
   ],
   "source": [
    "import pandas as pd\n",
    "import numpy as np\n",
    "import matplotlib.pyplot as plt\n",
    "import seaborn as sns\n",
    "import torch\n",
    "import re"
   ]
  },
  {
   "cell_type": "code",
   "execution_count": 3,
   "id": "f08044a5",
   "metadata": {},
   "outputs": [],
   "source": [
    "from datasets import load_dataset\n",
    "\n",
    "dataset = load_dataset(\"keivalya/MedQuad-MedicalQnADataset\")"
   ]
  },
  {
   "cell_type": "code",
   "execution_count": 4,
   "id": "3163edb6",
   "metadata": {},
   "outputs": [],
   "source": [
    "train = dataset['train']\n",
    "train_df = pd.DataFrame(train)"
   ]
  },
  {
   "cell_type": "code",
   "execution_count": 5,
   "id": "345039fa",
   "metadata": {},
   "outputs": [
    {
     "data": {
      "text/html": [
       "<div>\n",
       "<style scoped>\n",
       "    .dataframe tbody tr th:only-of-type {\n",
       "        vertical-align: middle;\n",
       "    }\n",
       "\n",
       "    .dataframe tbody tr th {\n",
       "        vertical-align: top;\n",
       "    }\n",
       "\n",
       "    .dataframe thead th {\n",
       "        text-align: right;\n",
       "    }\n",
       "</style>\n",
       "<table border=\"1\" class=\"dataframe\">\n",
       "  <thead>\n",
       "    <tr style=\"text-align: right;\">\n",
       "      <th></th>\n",
       "      <th>qtype</th>\n",
       "      <th>Question</th>\n",
       "      <th>Answer</th>\n",
       "    </tr>\n",
       "  </thead>\n",
       "  <tbody>\n",
       "    <tr>\n",
       "      <th>0</th>\n",
       "      <td>susceptibility</td>\n",
       "      <td>Who is at risk for Lymphocytic Choriomeningiti...</td>\n",
       "      <td>LCMV infections can occur after exposure to fr...</td>\n",
       "    </tr>\n",
       "    <tr>\n",
       "      <th>1</th>\n",
       "      <td>symptoms</td>\n",
       "      <td>What are the symptoms of Lymphocytic Choriomen...</td>\n",
       "      <td>LCMV is most commonly recognized as causing ne...</td>\n",
       "    </tr>\n",
       "    <tr>\n",
       "      <th>2</th>\n",
       "      <td>susceptibility</td>\n",
       "      <td>Who is at risk for Lymphocytic Choriomeningiti...</td>\n",
       "      <td>Individuals of all ages who come into contact ...</td>\n",
       "    </tr>\n",
       "    <tr>\n",
       "      <th>3</th>\n",
       "      <td>exams and tests</td>\n",
       "      <td>How to diagnose Lymphocytic Choriomeningitis (...</td>\n",
       "      <td>During the first phase of the disease, the mos...</td>\n",
       "    </tr>\n",
       "    <tr>\n",
       "      <th>4</th>\n",
       "      <td>treatment</td>\n",
       "      <td>What are the treatments for Lymphocytic Chorio...</td>\n",
       "      <td>Aseptic meningitis, encephalitis, or meningoen...</td>\n",
       "    </tr>\n",
       "  </tbody>\n",
       "</table>\n",
       "</div>"
      ],
      "text/plain": [
       "             qtype                                           Question  \\\n",
       "0   susceptibility  Who is at risk for Lymphocytic Choriomeningiti...   \n",
       "1         symptoms  What are the symptoms of Lymphocytic Choriomen...   \n",
       "2   susceptibility  Who is at risk for Lymphocytic Choriomeningiti...   \n",
       "3  exams and tests  How to diagnose Lymphocytic Choriomeningitis (...   \n",
       "4        treatment  What are the treatments for Lymphocytic Chorio...   \n",
       "\n",
       "                                              Answer  \n",
       "0  LCMV infections can occur after exposure to fr...  \n",
       "1  LCMV is most commonly recognized as causing ne...  \n",
       "2  Individuals of all ages who come into contact ...  \n",
       "3  During the first phase of the disease, the mos...  \n",
       "4  Aseptic meningitis, encephalitis, or meningoen...  "
      ]
     },
     "metadata": {},
     "output_type": "display_data"
    },
    {
     "data": {
      "text/plain": [
       "(16407, 3)"
      ]
     },
     "execution_count": 5,
     "metadata": {},
     "output_type": "execute_result"
    }
   ],
   "source": [
    "display(train_df.head())\n",
    "train_df.shape"
   ]
  },
  {
   "cell_type": "code",
   "execution_count": 6,
   "id": "118932cb",
   "metadata": {},
   "outputs": [],
   "source": [
    "labels_to_remove = ['support groups', 'complications', 'stages']\n",
    "df_train = train_df[~train_df['qtype'].isin(labels_to_remove)]"
   ]
  },
  {
   "cell_type": "code",
   "execution_count": 7,
   "id": "3ab1cd02",
   "metadata": {},
   "outputs": [
    {
     "data": {
      "text/plain": [
       "(16283, 3)"
      ]
     },
     "execution_count": 7,
     "metadata": {},
     "output_type": "execute_result"
    }
   ],
   "source": [
    "df_train.shape"
   ]
  },
  {
   "cell_type": "code",
   "execution_count": 8,
   "id": "652a09c4",
   "metadata": {},
   "outputs": [],
   "source": [
    "from transformers import BertTokenizer, BertModel"
   ]
  },
  {
   "cell_type": "code",
   "execution_count": 9,
   "id": "7d7a6a24",
   "metadata": {},
   "outputs": [],
   "source": [
    "# Use ClinicalBERT tokenizer and model\n",
    "tokenizer = BertTokenizer.from_pretrained('emilyalsentzer/Bio_ClinicalBERT')\n",
    "model = BertModel.from_pretrained('emilyalsentzer/Bio_ClinicalBERT')"
   ]
  },
  {
   "cell_type": "code",
   "execution_count": 10,
   "id": "036a8cca",
   "metadata": {},
   "outputs": [],
   "source": [
    "def form_X_array_in_batches(tokenizer, model, texts, batch_size):\n",
    "    X_array = []\n",
    "    for i in range(0, len(texts), batch_size):\n",
    "        batch_texts = texts[i:i + batch_size]\n",
    "        inputs = tokenizer(batch_texts, max_length=512, return_tensors='pt', padding=True, truncation=True)\n",
    "        with torch.no_grad():  # Ensure no gradients are calculated\n",
    "            outputs = model(**inputs)\n",
    "        embeddings = outputs.last_hidden_state.mean(dim=1)\n",
    "        X_array.append(embeddings.cpu())  # Move embeddings to CPU to save GPU memory\n",
    "    X_array = torch.cat(X_array, dim=0)\n",
    "    return X_array"
   ]
  },
  {
   "cell_type": "code",
   "execution_count": 11,
   "id": "44c1c835",
   "metadata": {},
   "outputs": [
    {
     "name": "stdout",
     "output_type": "stream",
     "text": [
      "\n",
      " Extracting Train Embeddings\n"
     ]
    }
   ],
   "source": [
    "batch_size = 8  # Adjust batch size based on your system's memory\n",
    "print('\\n Extracting Train Embeddings')\n",
    "train_embeddings = form_X_array_in_batches(tokenizer, model, df_train['Question'].tolist(), batch_size)"
   ]
  },
  {
   "cell_type": "code",
   "execution_count": 12,
   "id": "f2fe2485",
   "metadata": {},
   "outputs": [
    {
     "data": {
      "text/plain": [
       "torch.Size([16283, 768])"
      ]
     },
     "execution_count": 12,
     "metadata": {},
     "output_type": "execute_result"
    }
   ],
   "source": [
    "train_embeddings.shape"
   ]
  },
  {
   "cell_type": "code",
   "execution_count": 13,
   "id": "1bb956aa",
   "metadata": {},
   "outputs": [
    {
     "name": "stderr",
     "output_type": "stream",
     "text": [
      "C:\\Users\\vardh\\AppData\\Local\\Temp\\ipykernel_2520\\1705234562.py:7: SettingWithCopyWarning: \n",
      "A value is trying to be set on a copy of a slice from a DataFrame.\n",
      "Try using .loc[row_indexer,col_indexer] = value instead\n",
      "\n",
      "See the caveats in the documentation: https://pandas.pydata.org/pandas-docs/stable/user_guide/indexing.html#returning-a-view-versus-a-copy\n",
      "  df_train['embeddings'] = embedding_list\n"
     ]
    }
   ],
   "source": [
    "train_embeddings.numpy()\n",
    "\n",
    "# Convert each tensor to a list\n",
    "embedding_list = [train_embeddings[i].tolist() for i in range(train_embeddings.shape[0])]\n",
    "\n",
    "# Add these lists as a new column in the DataFrame\n",
    "df_train['embeddings'] = embedding_list\n"
   ]
  },
  {
   "cell_type": "code",
   "execution_count": 14,
   "id": "ba55b681",
   "metadata": {},
   "outputs": [
    {
     "data": {
      "text/html": [
       "<div>\n",
       "<style scoped>\n",
       "    .dataframe tbody tr th:only-of-type {\n",
       "        vertical-align: middle;\n",
       "    }\n",
       "\n",
       "    .dataframe tbody tr th {\n",
       "        vertical-align: top;\n",
       "    }\n",
       "\n",
       "    .dataframe thead th {\n",
       "        text-align: right;\n",
       "    }\n",
       "</style>\n",
       "<table border=\"1\" class=\"dataframe\">\n",
       "  <thead>\n",
       "    <tr style=\"text-align: right;\">\n",
       "      <th></th>\n",
       "      <th>qtype</th>\n",
       "      <th>Question</th>\n",
       "      <th>Answer</th>\n",
       "      <th>embeddings</th>\n",
       "    </tr>\n",
       "  </thead>\n",
       "  <tbody>\n",
       "    <tr>\n",
       "      <th>0</th>\n",
       "      <td>susceptibility</td>\n",
       "      <td>Who is at risk for Lymphocytic Choriomeningiti...</td>\n",
       "      <td>LCMV infections can occur after exposure to fr...</td>\n",
       "      <td>[0.24930141866207123, 0.036466069519519806, -0...</td>\n",
       "    </tr>\n",
       "    <tr>\n",
       "      <th>1</th>\n",
       "      <td>symptoms</td>\n",
       "      <td>What are the symptoms of Lymphocytic Choriomen...</td>\n",
       "      <td>LCMV is most commonly recognized as causing ne...</td>\n",
       "      <td>[0.13750021159648895, -0.0017314216820523143, ...</td>\n",
       "    </tr>\n",
       "    <tr>\n",
       "      <th>2</th>\n",
       "      <td>susceptibility</td>\n",
       "      <td>Who is at risk for Lymphocytic Choriomeningiti...</td>\n",
       "      <td>Individuals of all ages who come into contact ...</td>\n",
       "      <td>[0.24930141866207123, 0.036466069519519806, -0...</td>\n",
       "    </tr>\n",
       "    <tr>\n",
       "      <th>3</th>\n",
       "      <td>exams and tests</td>\n",
       "      <td>How to diagnose Lymphocytic Choriomeningitis (...</td>\n",
       "      <td>During the first phase of the disease, the mos...</td>\n",
       "      <td>[0.34114545583724976, -0.02490196004509926, -0...</td>\n",
       "    </tr>\n",
       "    <tr>\n",
       "      <th>4</th>\n",
       "      <td>treatment</td>\n",
       "      <td>What are the treatments for Lymphocytic Chorio...</td>\n",
       "      <td>Aseptic meningitis, encephalitis, or meningoen...</td>\n",
       "      <td>[0.14023013412952423, 0.052422285079956055, -0...</td>\n",
       "    </tr>\n",
       "  </tbody>\n",
       "</table>\n",
       "</div>"
      ],
      "text/plain": [
       "             qtype                                           Question  \\\n",
       "0   susceptibility  Who is at risk for Lymphocytic Choriomeningiti...   \n",
       "1         symptoms  What are the symptoms of Lymphocytic Choriomen...   \n",
       "2   susceptibility  Who is at risk for Lymphocytic Choriomeningiti...   \n",
       "3  exams and tests  How to diagnose Lymphocytic Choriomeningitis (...   \n",
       "4        treatment  What are the treatments for Lymphocytic Chorio...   \n",
       "\n",
       "                                              Answer  \\\n",
       "0  LCMV infections can occur after exposure to fr...   \n",
       "1  LCMV is most commonly recognized as causing ne...   \n",
       "2  Individuals of all ages who come into contact ...   \n",
       "3  During the first phase of the disease, the mos...   \n",
       "4  Aseptic meningitis, encephalitis, or meningoen...   \n",
       "\n",
       "                                          embeddings  \n",
       "0  [0.24930141866207123, 0.036466069519519806, -0...  \n",
       "1  [0.13750021159648895, -0.0017314216820523143, ...  \n",
       "2  [0.24930141866207123, 0.036466069519519806, -0...  \n",
       "3  [0.34114545583724976, -0.02490196004509926, -0...  \n",
       "4  [0.14023013412952423, 0.052422285079956055, -0...  "
      ]
     },
     "execution_count": 14,
     "metadata": {},
     "output_type": "execute_result"
    }
   ],
   "source": [
    "df_train.head()"
   ]
  },
  {
   "cell_type": "code",
   "execution_count": 15,
   "id": "77f9e083",
   "metadata": {},
   "outputs": [],
   "source": [
    "from sklearn.preprocessing import LabelEncoder\n",
    "\n",
    "label_encoder = LabelEncoder()"
   ]
  },
  {
   "cell_type": "code",
   "execution_count": 16,
   "id": "9ab7a986",
   "metadata": {},
   "outputs": [
    {
     "name": "stderr",
     "output_type": "stream",
     "text": [
      "C:\\Users\\vardh\\AppData\\Local\\Temp\\ipykernel_2520\\2147678393.py:2: SettingWithCopyWarning: \n",
      "A value is trying to be set on a copy of a slice from a DataFrame.\n",
      "Try using .loc[row_indexer,col_indexer] = value instead\n",
      "\n",
      "See the caveats in the documentation: https://pandas.pydata.org/pandas-docs/stable/user_guide/indexing.html#returning-a-view-versus-a-copy\n",
      "  df_train['labels'] = label_encoder.fit_transform(df_train['qtype'])\n"
     ]
    }
   ],
   "source": [
    "# Fit and transform the labels\n",
    "df_train['labels'] = label_encoder.fit_transform(df_train['qtype'])"
   ]
  },
  {
   "cell_type": "code",
   "execution_count": 17,
   "id": "5b6bd444",
   "metadata": {},
   "outputs": [
    {
     "name": "stdout",
     "output_type": "stream",
     "text": [
      "Label Encoding Mapping:\n",
      "causes: 0\n",
      "considerations: 1\n",
      "exams and tests: 2\n",
      "frequency: 3\n",
      "genetic changes: 4\n",
      "information: 5\n",
      "inheritance: 6\n",
      "outlook: 7\n",
      "prevention: 8\n",
      "research: 9\n",
      "susceptibility: 10\n",
      "symptoms: 11\n",
      "treatment: 12\n"
     ]
    }
   ],
   "source": [
    "# Create a mapping of the original labels to the encoded values\n",
    "label_mapping = dict(zip(label_encoder.classes_, label_encoder.transform(label_encoder.classes_)))\n",
    "\n",
    "# Print the mapping\n",
    "print(\"Label Encoding Mapping:\")\n",
    "for original_label, encoded_label in label_mapping.items():\n",
    "    print(f\"{original_label}: {encoded_label}\")"
   ]
  },
  {
   "cell_type": "code",
   "execution_count": 18,
   "id": "2b68d755",
   "metadata": {},
   "outputs": [
    {
     "data": {
      "text/html": [
       "<div>\n",
       "<style scoped>\n",
       "    .dataframe tbody tr th:only-of-type {\n",
       "        vertical-align: middle;\n",
       "    }\n",
       "\n",
       "    .dataframe tbody tr th {\n",
       "        vertical-align: top;\n",
       "    }\n",
       "\n",
       "    .dataframe thead th {\n",
       "        text-align: right;\n",
       "    }\n",
       "</style>\n",
       "<table border=\"1\" class=\"dataframe\">\n",
       "  <thead>\n",
       "    <tr style=\"text-align: right;\">\n",
       "      <th></th>\n",
       "      <th>qtype</th>\n",
       "      <th>Question</th>\n",
       "      <th>Answer</th>\n",
       "      <th>embeddings</th>\n",
       "      <th>labels</th>\n",
       "    </tr>\n",
       "  </thead>\n",
       "  <tbody>\n",
       "    <tr>\n",
       "      <th>0</th>\n",
       "      <td>susceptibility</td>\n",
       "      <td>Who is at risk for Lymphocytic Choriomeningiti...</td>\n",
       "      <td>LCMV infections can occur after exposure to fr...</td>\n",
       "      <td>[0.24930141866207123, 0.036466069519519806, -0...</td>\n",
       "      <td>10</td>\n",
       "    </tr>\n",
       "    <tr>\n",
       "      <th>1</th>\n",
       "      <td>symptoms</td>\n",
       "      <td>What are the symptoms of Lymphocytic Choriomen...</td>\n",
       "      <td>LCMV is most commonly recognized as causing ne...</td>\n",
       "      <td>[0.13750021159648895, -0.0017314216820523143, ...</td>\n",
       "      <td>11</td>\n",
       "    </tr>\n",
       "    <tr>\n",
       "      <th>2</th>\n",
       "      <td>susceptibility</td>\n",
       "      <td>Who is at risk for Lymphocytic Choriomeningiti...</td>\n",
       "      <td>Individuals of all ages who come into contact ...</td>\n",
       "      <td>[0.24930141866207123, 0.036466069519519806, -0...</td>\n",
       "      <td>10</td>\n",
       "    </tr>\n",
       "    <tr>\n",
       "      <th>3</th>\n",
       "      <td>exams and tests</td>\n",
       "      <td>How to diagnose Lymphocytic Choriomeningitis (...</td>\n",
       "      <td>During the first phase of the disease, the mos...</td>\n",
       "      <td>[0.34114545583724976, -0.02490196004509926, -0...</td>\n",
       "      <td>2</td>\n",
       "    </tr>\n",
       "    <tr>\n",
       "      <th>4</th>\n",
       "      <td>treatment</td>\n",
       "      <td>What are the treatments for Lymphocytic Chorio...</td>\n",
       "      <td>Aseptic meningitis, encephalitis, or meningoen...</td>\n",
       "      <td>[0.14023013412952423, 0.052422285079956055, -0...</td>\n",
       "      <td>12</td>\n",
       "    </tr>\n",
       "    <tr>\n",
       "      <th>...</th>\n",
       "      <td>...</td>\n",
       "      <td>...</td>\n",
       "      <td>...</td>\n",
       "      <td>...</td>\n",
       "      <td>...</td>\n",
       "    </tr>\n",
       "    <tr>\n",
       "      <th>16402</th>\n",
       "      <td>symptoms</td>\n",
       "      <td>What are the symptoms of Familial visceral myo...</td>\n",
       "      <td>What are the signs and symptoms of Familial vi...</td>\n",
       "      <td>[0.1360057294368744, 0.1457340270280838, -0.17...</td>\n",
       "      <td>11</td>\n",
       "    </tr>\n",
       "    <tr>\n",
       "      <th>16403</th>\n",
       "      <td>information</td>\n",
       "      <td>What is (are) Pseudopelade of Brocq ?</td>\n",
       "      <td>Pseudopelade of Brocq (PBB) is a slowly progre...</td>\n",
       "      <td>[0.23785822093486786, 0.10214877873659134, -0....</td>\n",
       "      <td>5</td>\n",
       "    </tr>\n",
       "    <tr>\n",
       "      <th>16404</th>\n",
       "      <td>symptoms</td>\n",
       "      <td>What are the symptoms of Pseudopelade of Brocq ?</td>\n",
       "      <td>What are the signs and symptoms of Pseudopelad...</td>\n",
       "      <td>[0.15715822577476501, -0.02364027127623558, -0...</td>\n",
       "      <td>11</td>\n",
       "    </tr>\n",
       "    <tr>\n",
       "      <th>16405</th>\n",
       "      <td>treatment</td>\n",
       "      <td>What are the treatments for Pseudopelade of Br...</td>\n",
       "      <td>Is there treatment or a cure for pseudopelade ...</td>\n",
       "      <td>[0.14804881811141968, 0.04639827832579613, -0....</td>\n",
       "      <td>12</td>\n",
       "    </tr>\n",
       "    <tr>\n",
       "      <th>16406</th>\n",
       "      <td>information</td>\n",
       "      <td>What is (are) Desmoplastic small round cell tu...</td>\n",
       "      <td>Desmoplastic small round cell tumors (DSRCT), ...</td>\n",
       "      <td>[0.2542250156402588, 0.10899394005537033, -0.3...</td>\n",
       "      <td>5</td>\n",
       "    </tr>\n",
       "  </tbody>\n",
       "</table>\n",
       "<p>16283 rows × 5 columns</p>\n",
       "</div>"
      ],
      "text/plain": [
       "                 qtype                                           Question  \\\n",
       "0       susceptibility  Who is at risk for Lymphocytic Choriomeningiti...   \n",
       "1             symptoms  What are the symptoms of Lymphocytic Choriomen...   \n",
       "2       susceptibility  Who is at risk for Lymphocytic Choriomeningiti...   \n",
       "3      exams and tests  How to diagnose Lymphocytic Choriomeningitis (...   \n",
       "4            treatment  What are the treatments for Lymphocytic Chorio...   \n",
       "...                ...                                                ...   \n",
       "16402         symptoms  What are the symptoms of Familial visceral myo...   \n",
       "16403      information              What is (are) Pseudopelade of Brocq ?   \n",
       "16404         symptoms   What are the symptoms of Pseudopelade of Brocq ?   \n",
       "16405        treatment  What are the treatments for Pseudopelade of Br...   \n",
       "16406      information  What is (are) Desmoplastic small round cell tu...   \n",
       "\n",
       "                                                  Answer  \\\n",
       "0      LCMV infections can occur after exposure to fr...   \n",
       "1      LCMV is most commonly recognized as causing ne...   \n",
       "2      Individuals of all ages who come into contact ...   \n",
       "3      During the first phase of the disease, the mos...   \n",
       "4      Aseptic meningitis, encephalitis, or meningoen...   \n",
       "...                                                  ...   \n",
       "16402  What are the signs and symptoms of Familial vi...   \n",
       "16403  Pseudopelade of Brocq (PBB) is a slowly progre...   \n",
       "16404  What are the signs and symptoms of Pseudopelad...   \n",
       "16405  Is there treatment or a cure for pseudopelade ...   \n",
       "16406  Desmoplastic small round cell tumors (DSRCT), ...   \n",
       "\n",
       "                                              embeddings  labels  \n",
       "0      [0.24930141866207123, 0.036466069519519806, -0...      10  \n",
       "1      [0.13750021159648895, -0.0017314216820523143, ...      11  \n",
       "2      [0.24930141866207123, 0.036466069519519806, -0...      10  \n",
       "3      [0.34114545583724976, -0.02490196004509926, -0...       2  \n",
       "4      [0.14023013412952423, 0.052422285079956055, -0...      12  \n",
       "...                                                  ...     ...  \n",
       "16402  [0.1360057294368744, 0.1457340270280838, -0.17...      11  \n",
       "16403  [0.23785822093486786, 0.10214877873659134, -0....       5  \n",
       "16404  [0.15715822577476501, -0.02364027127623558, -0...      11  \n",
       "16405  [0.14804881811141968, 0.04639827832579613, -0....      12  \n",
       "16406  [0.2542250156402588, 0.10899394005537033, -0.3...       5  \n",
       "\n",
       "[16283 rows x 5 columns]"
      ]
     },
     "metadata": {},
     "output_type": "display_data"
    },
    {
     "data": {
      "text/plain": [
       "(16283, 5)"
      ]
     },
     "execution_count": 18,
     "metadata": {},
     "output_type": "execute_result"
    }
   ],
   "source": [
    "display(df_train)\n",
    "df_train.shape"
   ]
  },
  {
   "cell_type": "code",
   "execution_count": 19,
   "id": "3b5edfc5",
   "metadata": {},
   "outputs": [],
   "source": [
    "from sklearn.model_selection import train_test_split\n",
    "\n",
    "train_df, test_df = train_test_split(df_train ,test_size = 0.3, random_state = seed)"
   ]
  },
  {
   "cell_type": "code",
   "execution_count": 20,
   "id": "9cdcefbf",
   "metadata": {},
   "outputs": [
    {
     "data": {
      "text/plain": [
       "(11398, 5)"
      ]
     },
     "metadata": {},
     "output_type": "display_data"
    },
    {
     "data": {
      "text/html": [
       "<div>\n",
       "<style scoped>\n",
       "    .dataframe tbody tr th:only-of-type {\n",
       "        vertical-align: middle;\n",
       "    }\n",
       "\n",
       "    .dataframe tbody tr th {\n",
       "        vertical-align: top;\n",
       "    }\n",
       "\n",
       "    .dataframe thead th {\n",
       "        text-align: right;\n",
       "    }\n",
       "</style>\n",
       "<table border=\"1\" class=\"dataframe\">\n",
       "  <thead>\n",
       "    <tr style=\"text-align: right;\">\n",
       "      <th></th>\n",
       "      <th>qtype</th>\n",
       "      <th>Question</th>\n",
       "      <th>Answer</th>\n",
       "      <th>embeddings</th>\n",
       "      <th>labels</th>\n",
       "    </tr>\n",
       "  </thead>\n",
       "  <tbody>\n",
       "    <tr>\n",
       "      <th>5025</th>\n",
       "      <td>information</td>\n",
       "      <td>Do you have information about Vasectomy</td>\n",
       "      <td>Summary : Vasectomy is a type of surgery that ...</td>\n",
       "      <td>[0.12877517938613892, 0.2642013430595398, -0.5...</td>\n",
       "      <td>5</td>\n",
       "    </tr>\n",
       "    <tr>\n",
       "      <th>5807</th>\n",
       "      <td>treatment</td>\n",
       "      <td>What are the treatments for KBG syndrome ?</td>\n",
       "      <td>These resources address the diagnosis or manag...</td>\n",
       "      <td>[0.23773929476737976, 0.07688256353139877, -0....</td>\n",
       "      <td>12</td>\n",
       "    </tr>\n",
       "    <tr>\n",
       "      <th>3187</th>\n",
       "      <td>treatment</td>\n",
       "      <td>What are the treatments for Hairy Cell Leukemia ?</td>\n",
       "      <td>Key Points\\n                    - There are di...</td>\n",
       "      <td>[0.12197723239660263, 0.04673199728131294, -0....</td>\n",
       "      <td>12</td>\n",
       "    </tr>\n",
       "    <tr>\n",
       "      <th>13884</th>\n",
       "      <td>symptoms</td>\n",
       "      <td>What are the symptoms of Infantile spasms broa...</td>\n",
       "      <td>What are the signs and symptoms of Infantile s...</td>\n",
       "      <td>[0.08833817392587662, 0.22311824560165405, -0....</td>\n",
       "      <td>11</td>\n",
       "    </tr>\n",
       "    <tr>\n",
       "      <th>3917</th>\n",
       "      <td>treatment</td>\n",
       "      <td>What are the treatments for Parkinson's Disease ?</td>\n",
       "      <td>Deep Brain Stimulation Deep brain stimulation,...</td>\n",
       "      <td>[0.06684915721416473, 0.11093048751354218, -0....</td>\n",
       "      <td>12</td>\n",
       "    </tr>\n",
       "  </tbody>\n",
       "</table>\n",
       "</div>"
      ],
      "text/plain": [
       "             qtype                                           Question  \\\n",
       "5025   information            Do you have information about Vasectomy   \n",
       "5807     treatment         What are the treatments for KBG syndrome ?   \n",
       "3187     treatment  What are the treatments for Hairy Cell Leukemia ?   \n",
       "13884     symptoms  What are the symptoms of Infantile spasms broa...   \n",
       "3917     treatment  What are the treatments for Parkinson's Disease ?   \n",
       "\n",
       "                                                  Answer  \\\n",
       "5025   Summary : Vasectomy is a type of surgery that ...   \n",
       "5807   These resources address the diagnosis or manag...   \n",
       "3187   Key Points\\n                    - There are di...   \n",
       "13884  What are the signs and symptoms of Infantile s...   \n",
       "3917   Deep Brain Stimulation Deep brain stimulation,...   \n",
       "\n",
       "                                              embeddings  labels  \n",
       "5025   [0.12877517938613892, 0.2642013430595398, -0.5...       5  \n",
       "5807   [0.23773929476737976, 0.07688256353139877, -0....      12  \n",
       "3187   [0.12197723239660263, 0.04673199728131294, -0....      12  \n",
       "13884  [0.08833817392587662, 0.22311824560165405, -0....      11  \n",
       "3917   [0.06684915721416473, 0.11093048751354218, -0....      12  "
      ]
     },
     "metadata": {},
     "output_type": "display_data"
    }
   ],
   "source": [
    "display(train_df.shape)\n",
    "display(train_df.head())"
   ]
  },
  {
   "cell_type": "code",
   "execution_count": 21,
   "id": "9421205a",
   "metadata": {},
   "outputs": [
    {
     "data": {
      "text/plain": [
       "(4885, 5)"
      ]
     },
     "metadata": {},
     "output_type": "display_data"
    },
    {
     "data": {
      "text/html": [
       "<div>\n",
       "<style scoped>\n",
       "    .dataframe tbody tr th:only-of-type {\n",
       "        vertical-align: middle;\n",
       "    }\n",
       "\n",
       "    .dataframe tbody tr th {\n",
       "        vertical-align: top;\n",
       "    }\n",
       "\n",
       "    .dataframe thead th {\n",
       "        text-align: right;\n",
       "    }\n",
       "</style>\n",
       "<table border=\"1\" class=\"dataframe\">\n",
       "  <thead>\n",
       "    <tr style=\"text-align: right;\">\n",
       "      <th></th>\n",
       "      <th>qtype</th>\n",
       "      <th>Question</th>\n",
       "      <th>Answer</th>\n",
       "      <th>embeddings</th>\n",
       "      <th>labels</th>\n",
       "    </tr>\n",
       "  </thead>\n",
       "  <tbody>\n",
       "    <tr>\n",
       "      <th>12083</th>\n",
       "      <td>symptoms</td>\n",
       "      <td>What are the symptoms of Harrod Doman Keele sy...</td>\n",
       "      <td>What are the signs and symptoms of Harrod Doma...</td>\n",
       "      <td>[0.18203911185264587, -0.11789435148239136, -0...</td>\n",
       "      <td>11</td>\n",
       "    </tr>\n",
       "    <tr>\n",
       "      <th>15285</th>\n",
       "      <td>symptoms</td>\n",
       "      <td>What are the symptoms of Preaxial polydactyly ...</td>\n",
       "      <td>What are the signs and symptoms of Preaxial po...</td>\n",
       "      <td>[0.13639184832572937, 0.17144176363945007, -0....</td>\n",
       "      <td>11</td>\n",
       "    </tr>\n",
       "    <tr>\n",
       "      <th>1662</th>\n",
       "      <td>causes</td>\n",
       "      <td>What causes What I need to know about Hirschsp...</td>\n",
       "      <td>Before birth, a childs nerve cells normally gr...</td>\n",
       "      <td>[0.4694878160953522, -0.17726312577724457, -0....</td>\n",
       "      <td>0</td>\n",
       "    </tr>\n",
       "    <tr>\n",
       "      <th>11238</th>\n",
       "      <td>symptoms</td>\n",
       "      <td>What are the symptoms of Achondrogenesis ?</td>\n",
       "      <td>What are the signs and symptoms of Achondrogen...</td>\n",
       "      <td>[0.19248098134994507, -0.04432280361652374, -0...</td>\n",
       "      <td>11</td>\n",
       "    </tr>\n",
       "    <tr>\n",
       "      <th>13787</th>\n",
       "      <td>symptoms</td>\n",
       "      <td>What are the symptoms of Trigger thumb ?</td>\n",
       "      <td>What are the signs and symptoms of Trigger thu...</td>\n",
       "      <td>[0.13349485397338867, 0.13798664510250092, -0....</td>\n",
       "      <td>11</td>\n",
       "    </tr>\n",
       "  </tbody>\n",
       "</table>\n",
       "</div>"
      ],
      "text/plain": [
       "          qtype                                           Question  \\\n",
       "12083  symptoms  What are the symptoms of Harrod Doman Keele sy...   \n",
       "15285  symptoms  What are the symptoms of Preaxial polydactyly ...   \n",
       "1662     causes  What causes What I need to know about Hirschsp...   \n",
       "11238  symptoms         What are the symptoms of Achondrogenesis ?   \n",
       "13787  symptoms           What are the symptoms of Trigger thumb ?   \n",
       "\n",
       "                                                  Answer  \\\n",
       "12083  What are the signs and symptoms of Harrod Doma...   \n",
       "15285  What are the signs and symptoms of Preaxial po...   \n",
       "1662   Before birth, a childs nerve cells normally gr...   \n",
       "11238  What are the signs and symptoms of Achondrogen...   \n",
       "13787  What are the signs and symptoms of Trigger thu...   \n",
       "\n",
       "                                              embeddings  labels  \n",
       "12083  [0.18203911185264587, -0.11789435148239136, -0...      11  \n",
       "15285  [0.13639184832572937, 0.17144176363945007, -0....      11  \n",
       "1662   [0.4694878160953522, -0.17726312577724457, -0....       0  \n",
       "11238  [0.19248098134994507, -0.04432280361652374, -0...      11  \n",
       "13787  [0.13349485397338867, 0.13798664510250092, -0....      11  "
      ]
     },
     "metadata": {},
     "output_type": "display_data"
    }
   ],
   "source": [
    "display(test_df.shape)\n",
    "display(test_df.head())"
   ]
  },
  {
   "cell_type": "code",
   "execution_count": 22,
   "id": "3462233f",
   "metadata": {},
   "outputs": [],
   "source": [
    "import tensorflow as tf\n",
    "from tensorflow.keras.models import Sequential\n",
    "from tensorflow.keras.layers import Dense, Dropout\n",
    "from tensorflow.keras.optimizers import Adam\n",
    "from tensorflow.keras.losses import SparseCategoricalCrossentropy"
   ]
  },
  {
   "cell_type": "code",
   "execution_count": 23,
   "id": "084107ea",
   "metadata": {},
   "outputs": [
    {
     "data": {
      "text/plain": [
       "(11398, 768)"
      ]
     },
     "metadata": {},
     "output_type": "display_data"
    },
    {
     "data": {
      "text/plain": [
       "(11398,)"
      ]
     },
     "metadata": {},
     "output_type": "display_data"
    }
   ],
   "source": [
    "X = np.array(train_df['embeddings'].to_list())\n",
    "y = train_df['labels']\n",
    "\n",
    "display(X.shape)\n",
    "\n",
    "display(y.shape)"
   ]
  },
  {
   "cell_type": "code",
   "execution_count": 24,
   "id": "7c2af57d",
   "metadata": {},
   "outputs": [],
   "source": [
    "x_train, x_val, y_train, y_val = train_test_split(X, y ,test_size = 0.3, random_state = seed)"
   ]
  },
  {
   "cell_type": "code",
   "execution_count": 25,
   "id": "7687eb47",
   "metadata": {},
   "outputs": [
    {
     "data": {
      "text/plain": [
       "(7978, 768)"
      ]
     },
     "metadata": {},
     "output_type": "display_data"
    },
    {
     "data": {
      "text/plain": [
       "(3420, 768)"
      ]
     },
     "metadata": {},
     "output_type": "display_data"
    },
    {
     "data": {
      "text/plain": [
       "(7978,)"
      ]
     },
     "metadata": {},
     "output_type": "display_data"
    },
    {
     "data": {
      "text/plain": [
       "(3420,)"
      ]
     },
     "metadata": {},
     "output_type": "display_data"
    }
   ],
   "source": [
    "display(x_train.shape)\n",
    "display(x_val.shape)\n",
    "display(y_train.shape)\n",
    "display(y_val.shape)"
   ]
  },
  {
   "cell_type": "code",
   "execution_count": 27,
   "id": "3dd64383",
   "metadata": {},
   "outputs": [
    {
     "name": "stdout",
     "output_type": "stream",
     "text": [
      "Model: \"sequential_1\"\n",
      "_________________________________________________________________\n",
      " Layer (type)                Output Shape              Param #   \n",
      "=================================================================\n",
      " dense_5 (Dense)             (None, 512)               393728    \n",
      "                                                                 \n",
      " dropout_4 (Dropout)         (None, 512)               0         \n",
      "                                                                 \n",
      " dense_6 (Dense)             (None, 256)               131328    \n",
      "                                                                 \n",
      " dropout_5 (Dropout)         (None, 256)               0         \n",
      "                                                                 \n",
      " dense_7 (Dense)             (None, 128)               32896     \n",
      "                                                                 \n",
      " dropout_6 (Dropout)         (None, 128)               0         \n",
      "                                                                 \n",
      " dense_8 (Dense)             (None, 64)                8256      \n",
      "                                                                 \n",
      " dropout_7 (Dropout)         (None, 64)                0         \n",
      "                                                                 \n",
      " dense_9 (Dense)             (None, 13)                845       \n",
      "                                                                 \n",
      "=================================================================\n",
      "Total params: 567,053\n",
      "Trainable params: 567,053\n",
      "Non-trainable params: 0\n",
      "_________________________________________________________________\n"
     ]
    }
   ],
   "source": [
    "model_ann = Sequential([\n",
    "    Dense(512, input_shape = (768,), activation = 'relu'),\n",
    "    Dropout(0.2),\n",
    "    Dense(256, activation = 'relu'),\n",
    "    Dropout(0.3),\n",
    "    Dense(128, activation = 'relu'),\n",
    "    Dropout(0.5),\n",
    "    Dense(64, activation = 'relu'),\n",
    "    Dropout(0.3),\n",
    "    Dense(13, activation = 'softmax')\n",
    "])\n",
    "model_ann.summary()"
   ]
  },
  {
   "cell_type": "code",
   "execution_count": 28,
   "id": "042a9a47",
   "metadata": {},
   "outputs": [],
   "source": [
    "model_ann.compile(\n",
    "    optimizer = Adam(learning_rate = 0.001),\n",
    "    loss = SparseCategoricalCrossentropy(),\n",
    "    metrics = ['accuracy']\n",
    ")"
   ]
  },
  {
   "cell_type": "code",
   "execution_count": 29,
   "id": "639fb298",
   "metadata": {},
   "outputs": [
    {
     "name": "stdout",
     "output_type": "stream",
     "text": [
      "Epoch 1/10\n",
      "998/998 [==============================] - 6s 5ms/step - loss: 0.5341 - accuracy: 0.8287 - val_loss: 0.0303 - val_accuracy: 0.9868\n",
      "Epoch 2/10\n",
      "998/998 [==============================] - 5s 5ms/step - loss: 0.0900 - accuracy: 0.9728 - val_loss: 0.0664 - val_accuracy: 0.9845\n",
      "Epoch 3/10\n",
      "998/998 [==============================] - 5s 5ms/step - loss: 0.0484 - accuracy: 0.9865 - val_loss: 0.0092 - val_accuracy: 0.9982\n",
      "Epoch 4/10\n",
      "998/998 [==============================] - 5s 5ms/step - loss: 0.0367 - accuracy: 0.9915 - val_loss: 0.0105 - val_accuracy: 0.9971\n",
      "Epoch 5/10\n",
      "998/998 [==============================] - 5s 5ms/step - loss: 0.0319 - accuracy: 0.9921 - val_loss: 0.0094 - val_accuracy: 0.9980\n",
      "Epoch 6/10\n",
      "998/998 [==============================] - 5s 5ms/step - loss: 0.0267 - accuracy: 0.9927 - val_loss: 0.0075 - val_accuracy: 0.9982\n",
      "Epoch 7/10\n",
      "998/998 [==============================] - 5s 5ms/step - loss: 0.0509 - accuracy: 0.9883 - val_loss: 0.0039 - val_accuracy: 0.9988\n",
      "Epoch 8/10\n",
      "998/998 [==============================] - 5s 5ms/step - loss: 0.0206 - accuracy: 0.9964 - val_loss: 0.0154 - val_accuracy: 0.9971\n",
      "Epoch 9/10\n",
      "998/998 [==============================] - 5s 5ms/step - loss: 0.0228 - accuracy: 0.9940 - val_loss: 0.0083 - val_accuracy: 0.9974\n",
      "Epoch 10/10\n",
      "998/998 [==============================] - 5s 5ms/step - loss: 0.0258 - accuracy: 0.9950 - val_loss: 0.0059 - val_accuracy: 0.9982\n"
     ]
    }
   ],
   "source": [
    "history = model_ann.fit(\n",
    "    x_train, y_train,\n",
    "    epochs = 10,\n",
    "    batch_size = 8,\n",
    "    validation_data = (x_val,y_val)\n",
    ")"
   ]
  },
  {
   "cell_type": "code",
   "execution_count": 30,
   "id": "2996943e",
   "metadata": {},
   "outputs": [
    {
     "name": "stdout",
     "output_type": "stream",
     "text": [
      "357/357 [==============================] - 0s 1ms/step - loss: 0.0055 - accuracy: 0.9985\n",
      "Validation Accuracy: 99.85%\n"
     ]
    }
   ],
   "source": [
    "loss, accuracy = model_ann.evaluate(X, y)\n",
    "print(f'Validation Accuracy: {accuracy * 100:.2f}%')"
   ]
  },
  {
   "cell_type": "code",
   "execution_count": 31,
   "id": "eaafd717",
   "metadata": {},
   "outputs": [
    {
     "name": "stdout",
     "output_type": "stream",
     "text": [
      "153/153 [==============================] - 0s 934us/step\n"
     ]
    }
   ],
   "source": [
    "predictions = model_ann.predict(np.array(test_df['embeddings'].tolist()))"
   ]
  },
  {
   "cell_type": "code",
   "execution_count": 32,
   "id": "5007e0a0",
   "metadata": {},
   "outputs": [],
   "source": [
    "# Convert predicted probabilities to class labels\n",
    "predicted_labels = np.argmax(predictions, axis=1)"
   ]
  },
  {
   "cell_type": "code",
   "execution_count": 33,
   "id": "f5fdeaba",
   "metadata": {},
   "outputs": [],
   "source": [
    "from sklearn.metrics import accuracy_score, f1_score, precision_score, recall_score, roc_auc_score, roc_curve, auc\n",
    "\n",
    "# Calculate evaluation metrics\n",
    "accuracy = accuracy_score(test_df['labels'], predicted_labels)\n",
    "f1 = f1_score(test_df['labels'], predicted_labels, average = 'weighted')  # Use weighted average for multi-class\n",
    "precision = precision_score(test_df['labels'], predicted_labels, average='weighted')\n",
    "recall = recall_score(test_df['labels'], predicted_labels, average='weighted')"
   ]
  },
  {
   "cell_type": "code",
   "execution_count": 34,
   "id": "91bb4ec1",
   "metadata": {},
   "outputs": [
    {
     "name": "stdout",
     "output_type": "stream",
     "text": [
      "Test Accuracy: 99.82%\n",
      "Weighted F1 Score: 1.00\n",
      "Weighted Precision: 1.00\n",
      "Weighted Recall: 1.00\n"
     ]
    }
   ],
   "source": [
    "# Print the evaluation metrics\n",
    "print(f'Test Accuracy: {accuracy * 100:.2f}%')\n",
    "print(f'Weighted F1 Score: {f1:.2f}')\n",
    "print(f'Weighted Precision: {precision:.2f}')\n",
    "print(f'Weighted Recall: {recall:.2f}')\n"
   ]
  },
  {
   "cell_type": "code",
   "execution_count": 35,
   "id": "321446de",
   "metadata": {},
   "outputs": [
    {
     "data": {
      "text/plain": [
       "<Figure size 3000x3000 with 0 Axes>"
      ]
     },
     "metadata": {},
     "output_type": "display_data"
    },
    {
     "data": {
      "image/png": "[encoded data removed]",
      "text/plain": [
       "<Figure size 640x480 with 2 Axes>"
      ]
     },
     "metadata": {},
     "output_type": "display_data"
    }
   ],
   "source": [
    "from sklearn.metrics import confusion_matrix, ConfusionMatrixDisplay\n",
    "\n",
    "# Calculate the confusion matrix\n",
    "cm = confusion_matrix(test_df['labels'], predicted_labels)\n",
    "\n",
    "# Create a larger figure for better readability\n",
    "plt.figure(figsize=(30,30))\n",
    "\n",
    "# Display the confusion matrix with tilted x-tick labels\n",
    "disp = ConfusionMatrixDisplay(confusion_matrix=cm, display_labels=label_encoder.classes_)\n",
    "disp.plot(cmap=plt.cm.Blues, xticks_rotation=45)\n",
    "\n",
    "plt.title('Confusion Matrix')\n",
    "plt.show()"
   ]
  },
  {
   "cell_type": "code",
   "execution_count": null,
   "id": "7a80e808",
   "metadata": {},
   "outputs": [],
   "source": []
  }
 ],
 "metadata": {
  "kernelspec": {
   "display_name": "Python 3 (ipykernel)",
   "language": "python",
   "name": "python3"
  },
  "language_info": {
   "codemirror_mode": {
    "name": "ipython",
    "version": 3
   },
   "file_extension": ".py",
   "mimetype": "text/x-python",
   "name": "python",
   "nbconvert_exporter": "python",
   "pygments_lexer": "ipython3",
   "version": "3.10.9"
  }
 },
 "nbformat": 4,
 "nbformat_minor": 5
}
